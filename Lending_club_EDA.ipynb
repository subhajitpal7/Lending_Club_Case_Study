{
 "cells": [
  {
   "cell_type": "code",
   "execution_count": 2,
   "metadata": {},
   "outputs": [],
   "source": [
    "#importing the necessary Libraries\n",
    "import pandas as pd\n",
    "import numpy as np\n",
    "import seaborn as sns\n",
    "import matplotlib.pyplot as plt\n",
    "%matplotlib inline\n",
    "import warnings\n"
   ]
  },
  {
   "cell_type": "code",
   "execution_count": 3,
   "metadata": {},
   "outputs": [
    {
     "name": "stderr",
     "output_type": "stream",
     "text": [
      "/tmp/ipykernel_171625/2769543212.py:1: DtypeWarning: Columns (47) have mixed types. Specify dtype option on import or set low_memory=False.\n",
      "  data=pd.read_csv(\"loan.csv\",index_col=0)\n"
     ]
    },
    {
     "name": "stdout",
     "output_type": "stream",
     "text": [
      "mths_since_last_major_derog 39717\n",
      "annual_inc_joint 39717\n",
      "dti_joint 39717\n",
      "verification_status_joint 39717\n",
      "tot_coll_amt 39717\n",
      "tot_cur_bal 39717\n",
      "open_acc_6m 39717\n",
      "open_il_6m 39717\n",
      "open_il_12m 39717\n",
      "open_il_24m 39717\n",
      "mths_since_rcnt_il 39717\n",
      "total_bal_il 39717\n",
      "il_util 39717\n",
      "open_rv_12m 39717\n",
      "open_rv_24m 39717\n",
      "max_bal_bc 39717\n",
      "all_util 39717\n",
      "total_rev_hi_lim 39717\n",
      "inq_fi 39717\n",
      "total_cu_tl 39717\n",
      "inq_last_12m 39717\n",
      "acc_open_past_24mths 39717\n",
      "avg_cur_bal 39717\n",
      "bc_open_to_buy 39717\n",
      "bc_util 39717\n",
      "mo_sin_old_il_acct 39717\n",
      "mo_sin_old_rev_tl_op 39717\n",
      "mo_sin_rcnt_rev_tl_op 39717\n",
      "mo_sin_rcnt_tl 39717\n",
      "mort_acc 39717\n",
      "mths_since_recent_bc 39717\n",
      "mths_since_recent_bc_dlq 39717\n",
      "mths_since_recent_inq 39717\n",
      "mths_since_recent_revol_delinq 39717\n",
      "num_accts_ever_120_pd 39717\n",
      "num_actv_bc_tl 39717\n",
      "num_actv_rev_tl 39717\n",
      "num_bc_sats 39717\n",
      "num_bc_tl 39717\n",
      "num_il_tl 39717\n",
      "num_op_rev_tl 39717\n",
      "num_rev_accts 39717\n",
      "num_rev_tl_bal_gt_0 39717\n",
      "num_sats 39717\n",
      "num_tl_120dpd_2m 39717\n",
      "num_tl_30dpd 39717\n",
      "num_tl_90g_dpd_24m 39717\n",
      "num_tl_op_past_12m 39717\n",
      "pct_tl_nvr_dlq 39717\n",
      "percent_bc_gt_75 39717\n",
      "tot_hi_cred_lim 39717\n",
      "total_bal_ex_mort 39717\n",
      "total_bc_limit 39717\n",
      "total_il_high_credit_limit 39717\n",
      "54\n"
     ]
    }
   ],
   "source": [
    "#reading the loan.csv data\n",
    "data=pd.read_csv(\"loan.csv\",index_col=0)\n",
    "count=0\n",
    "total_missing_value_cols=[]\n",
    "for col in data.columns:\n",
    "    if data[col].isnull().sum() == 39717:\n",
    "        print(col,data[col].isnull().count())\n",
    "        count+=1\n",
    "        total_missing_value_cols.append(col)\n",
    "\n",
    "print(count)"
   ]
  },
  {
   "cell_type": "code",
   "execution_count": 4,
   "metadata": {},
   "outputs": [],
   "source": [
    "data.shape\n",
    "data_reformed=data.copy()\n",
    "data_reformed=data_reformed.drop(total_missing_value_cols,axis=1)"
   ]
  },
  {
   "cell_type": "code",
   "execution_count": 5,
   "metadata": {},
   "outputs": [
    {
     "name": "stdout",
     "output_type": "stream",
     "text": [
      "desc column with 32.58050708764509% missing values\n",
      "mths_since_last_delinq column with 64.66248709620565% missing values\n",
      "mths_since_last_record column with 92.98537150338646% missing values\n",
      "next_pymnt_d column with 97.12969257496789% missing values\n"
     ]
    }
   ],
   "source": [
    "data_reformed.shape\n",
    "data_reformed.isnull().sum().sort_values(ascending=False)\n",
    "cols_with_above_30_null_values=[]\n",
    "for col in data_reformed.columns:\n",
    "    missing_val_perc=100*(data_reformed[col].isnull().sum()/data_reformed.shape[0])\n",
    "    if missing_val_perc>30:\n",
    "        print(\"{} column with {}% missing values\".format(col,missing_val_perc))\n",
    "        cols_with_above_30_null_values.append(col)"
   ]
  },
  {
   "cell_type": "code",
   "execution_count": 6,
   "metadata": {},
   "outputs": [],
   "source": [
    "\n",
    "data_reformed=data_reformed.drop(cols_with_above_30_null_values,axis=1)"
   ]
  },
  {
   "cell_type": "code",
   "execution_count": 7,
   "metadata": {},
   "outputs": [
    {
     "data": {
      "text/plain": [
       "(39717, 52)"
      ]
     },
     "execution_count": 7,
     "metadata": {},
     "output_type": "execute_result"
    }
   ],
   "source": [
    "data_reformed.shape"
   ]
  },
  {
   "cell_type": "code",
   "execution_count": 11,
   "metadata": {},
   "outputs": [
    {
     "data": {
      "text/plain": [
       "emp_title                     6.191\n",
       "emp_length                    2.707\n",
       "title                         0.028\n",
       "revol_util                    0.126\n",
       "last_pymnt_d                  0.179\n",
       "last_credit_pull_d            0.005\n",
       "collections_12_mths_ex_med    0.141\n",
       "chargeoff_within_12_mths      0.141\n",
       "pub_rec_bankruptcies          1.755\n",
       "tax_liens                     0.098\n",
       "dtype: float64"
      ]
     },
     "execution_count": 11,
     "metadata": {},
     "output_type": "execute_result"
    }
   ],
   "source": [
    "missing_perc=round(100*(data_reformed.isnull().sum()/data_reformed.shape[0]),3)\n",
    "missing_perc[missing_perc>0]"
   ]
  },
  {
   "cell_type": "code",
   "execution_count": 17,
   "metadata": {},
   "outputs": [
    {
     "name": "stdout",
     "output_type": "stream",
     "text": [
      "emp_title with 28821 number of unique values\n",
      "emp_length with 12 number of unique values\n",
      "title with 19616 number of unique values\n",
      "revol_util with 1090 number of unique values\n",
      "last_pymnt_d with 102 number of unique values\n",
      "last_credit_pull_d with 107 number of unique values\n",
      "collections_12_mths_ex_med with 2 number of unique values\n",
      "chargeoff_within_12_mths with 2 number of unique values\n",
      "pub_rec_bankruptcies with 4 number of unique values\n",
      "tax_liens with 2 number of unique values\n"
     ]
    }
   ],
   "source": [
    "def print_unique_valuecount(df,col):\n",
    "    print(f'{col} with {len(df[col].unique())} number of unique values')\n",
    "cols=[\"emp_title\",\"emp_length\",\"title\",\"revol_util\",\"last_pymnt_d\",\n",
    "      \"last_credit_pull_d\",\"collections_12_mths_ex_med\",\n",
    "      \"chargeoff_within_12_mths\",\"pub_rec_bankruptcies\",\"tax_liens\"]\n",
    "for col in cols:\n",
    "    print_unique_valuecount(data_reformed,col)\n"
   ]
  },
  {
   "cell_type": "code",
   "execution_count": 71,
   "metadata": {
    "scrolled": false
   },
   "outputs": [
    {
     "ename": "AttributeError",
     "evalue": "'DataFrame' object has no attribute 'unique'",
     "output_type": "error",
     "traceback": [
      "\u001b[0;31m---------------------------------------------------------------------------\u001b[0m",
      "\u001b[0;31mAttributeError\u001b[0m                            Traceback (most recent call last)",
      "\u001b[1;32m/home/subha101/Learnings_projs/Upgrad/LendingClubCaseStudy/Lending_club_EDA.ipynb Cell 7'\u001b[0m in \u001b[0;36m<cell line: 1>\u001b[0;34m()\u001b[0m\n\u001b[0;32m----> <a href='vscode-notebook-cell:/home/subha101/Learnings_projs/Upgrad/LendingClubCaseStudy/Lending_club_EDA.ipynb#ch0000006?line=0'>1</a>\u001b[0m data_reformed\u001b[39m.\u001b[39;49munique()\u001b[39m.\u001b[39msum()\n",
      "File \u001b[0;32m~/miniconda3/envs/data_preprocessing/lib/python3.9/site-packages/pandas/core/generic.py:5583\u001b[0m, in \u001b[0;36mNDFrame.__getattr__\u001b[0;34m(self, name)\u001b[0m\n\u001b[1;32m   <a href='file:///home/subha101/miniconda3/envs/data_preprocessing/lib/python3.9/site-packages/pandas/core/generic.py?line=5575'>5576</a>\u001b[0m \u001b[39mif\u001b[39;00m (\n\u001b[1;32m   <a href='file:///home/subha101/miniconda3/envs/data_preprocessing/lib/python3.9/site-packages/pandas/core/generic.py?line=5576'>5577</a>\u001b[0m     name \u001b[39mnot\u001b[39;00m \u001b[39min\u001b[39;00m \u001b[39mself\u001b[39m\u001b[39m.\u001b[39m_internal_names_set\n\u001b[1;32m   <a href='file:///home/subha101/miniconda3/envs/data_preprocessing/lib/python3.9/site-packages/pandas/core/generic.py?line=5577'>5578</a>\u001b[0m     \u001b[39mand\u001b[39;00m name \u001b[39mnot\u001b[39;00m \u001b[39min\u001b[39;00m \u001b[39mself\u001b[39m\u001b[39m.\u001b[39m_metadata\n\u001b[1;32m   <a href='file:///home/subha101/miniconda3/envs/data_preprocessing/lib/python3.9/site-packages/pandas/core/generic.py?line=5578'>5579</a>\u001b[0m     \u001b[39mand\u001b[39;00m name \u001b[39mnot\u001b[39;00m \u001b[39min\u001b[39;00m \u001b[39mself\u001b[39m\u001b[39m.\u001b[39m_accessors\n\u001b[1;32m   <a href='file:///home/subha101/miniconda3/envs/data_preprocessing/lib/python3.9/site-packages/pandas/core/generic.py?line=5579'>5580</a>\u001b[0m     \u001b[39mand\u001b[39;00m \u001b[39mself\u001b[39m\u001b[39m.\u001b[39m_info_axis\u001b[39m.\u001b[39m_can_hold_identifiers_and_holds_name(name)\n\u001b[1;32m   <a href='file:///home/subha101/miniconda3/envs/data_preprocessing/lib/python3.9/site-packages/pandas/core/generic.py?line=5580'>5581</a>\u001b[0m ):\n\u001b[1;32m   <a href='file:///home/subha101/miniconda3/envs/data_preprocessing/lib/python3.9/site-packages/pandas/core/generic.py?line=5581'>5582</a>\u001b[0m     \u001b[39mreturn\u001b[39;00m \u001b[39mself\u001b[39m[name]\n\u001b[0;32m-> <a href='file:///home/subha101/miniconda3/envs/data_preprocessing/lib/python3.9/site-packages/pandas/core/generic.py?line=5582'>5583</a>\u001b[0m \u001b[39mreturn\u001b[39;00m \u001b[39mobject\u001b[39;49m\u001b[39m.\u001b[39;49m\u001b[39m__getattribute__\u001b[39;49m(\u001b[39mself\u001b[39;49m, name)\n",
      "\u001b[0;31mAttributeError\u001b[0m: 'DataFrame' object has no attribute 'unique'"
     ]
    }
   ],
   "source": []
  },
  {
   "cell_type": "code",
   "execution_count": 77,
   "metadata": {},
   "outputs": [
    {
     "data": {
      "text/plain": [
       "member_id                     39717\n",
       "url                           39717\n",
       "total_pymnt                   37850\n",
       "total_pymnt_inv               37518\n",
       "total_rec_int                 35148\n",
       "last_pymnt_amnt               34930\n",
       "emp_title                     28820\n",
       "revol_bal                     21711\n",
       "title                         19615\n",
       "installment                   15383\n",
       "funded_amnt_inv                8205\n",
       "total_rec_prncp                7976\n",
       "annual_inc                     5318\n",
       "recoveries                     4040\n",
       "dti                            2868\n",
       "collection_recovery_fee        2616\n",
       "total_rec_late_fee             1356\n",
       "out_prncp_inv                  1138\n",
       "out_prncp                      1137\n",
       "revol_util                     1089\n",
       "funded_amnt                    1041\n",
       "loan_amnt                       885\n",
       "zip_code                        823\n",
       "earliest_cr_line                526\n",
       "int_rate                        371\n",
       "last_credit_pull_d              106\n",
       "last_pymnt_d                    101\n",
       "total_acc                        82\n",
       "issue_d                          55\n",
       "addr_state                       50\n",
       "open_acc                         40\n",
       "sub_grade                        35\n",
       "purpose                          14\n",
       "delinq_2yrs                      11\n",
       "emp_length                       11\n",
       "inq_last_6mths                    9\n",
       "grade                             7\n",
       "home_ownership                    5\n",
       "pub_rec                           5\n",
       "pub_rec_bankruptcies              3\n",
       "loan_status                       3\n",
       "verification_status               3\n",
       "term                              2\n",
       "acc_now_delinq                    1\n",
       "delinq_amnt                       1\n",
       "chargeoff_within_12_mths          1\n",
       "initial_list_status               1\n",
       "application_type                  1\n",
       "policy_code                       1\n",
       "collections_12_mths_ex_med        1\n",
       "pymnt_plan                        1\n",
       "tax_liens                         1\n",
       "dtype: int64"
      ]
     },
     "execution_count": 77,
     "metadata": {},
     "output_type": "execute_result"
    }
   ],
   "source": [
    "data_reformed.nunique().sort_values(ascending=False)"
   ]
  },
  {
   "cell_type": "markdown",
   "metadata": {},
   "source": [
    "We are observing that the columnns namely\n",
    "acc_now_delinq,\n",
    "delinq_amnt,\n",
    "chargeoff_within_12_mths,\n",
    "initial_list_status,\n",
    "application_type,\n",
    "policy_code,\n",
    "collections_12_mths_ex_med,\n",
    "pymnt_plan,\n",
    "tax_liens\n",
    "\n",
    "are categorical variables with only one unique value which doesn't provide much to the analysis of the loan status both in the case of univariate and bivariate analysis\n",
    "so we can remove these columns\n",
    "\n",
    "Also member_id and url variable are total unique values and we can remove them as well\n"
   ]
  },
  {
   "cell_type": "code",
   "execution_count": 21,
   "metadata": {},
   "outputs": [
    {
     "data": {
      "text/plain": [
       "(39717, 41)"
      ]
     },
     "execution_count": 21,
     "metadata": {},
     "output_type": "execute_result"
    }
   ],
   "source": [
    "cols_to_be_removed=[\"acc_now_delinq\", \"delinq_amnt\", \"chargeoff_within_12_mths\",\n",
    "                    \"initial_list_status\", \"application_type\", \"policy_code\"\n",
    "                    , \"collections_12_mths_ex_med\", \"pymnt_plan\", \"tax_liens\",\"member_id\",\"url\"]\n",
    "data_reformed=data_reformed.drop(cols_to_be_removed,axis=1)\n",
    "data_reformed.shape"
   ]
  },
  {
   "cell_type": "code",
   "execution_count": 23,
   "metadata": {},
   "outputs": [
    {
     "data": {
      "text/plain": [
       "loan_amnt                     0\n",
       "funded_amnt                   0\n",
       "funded_amnt_inv               0\n",
       "term                          0\n",
       "int_rate                      0\n",
       "installment                   0\n",
       "grade                         0\n",
       "sub_grade                     0\n",
       "emp_title                  2459\n",
       "emp_length                 1075\n",
       "home_ownership                0\n",
       "annual_inc                    0\n",
       "verification_status           0\n",
       "issue_d                       0\n",
       "loan_status                   0\n",
       "purpose                       0\n",
       "title                        11\n",
       "zip_code                      0\n",
       "addr_state                    0\n",
       "dti                           0\n",
       "delinq_2yrs                   0\n",
       "earliest_cr_line              0\n",
       "inq_last_6mths                0\n",
       "open_acc                      0\n",
       "pub_rec                       0\n",
       "revol_bal                     0\n",
       "revol_util                   50\n",
       "total_acc                     0\n",
       "out_prncp                     0\n",
       "out_prncp_inv                 0\n",
       "total_pymnt                   0\n",
       "total_pymnt_inv               0\n",
       "total_rec_prncp               0\n",
       "total_rec_int                 0\n",
       "total_rec_late_fee            0\n",
       "recoveries                    0\n",
       "collection_recovery_fee       0\n",
       "last_pymnt_d                 71\n",
       "last_pymnt_amnt               0\n",
       "last_credit_pull_d            2\n",
       "pub_rec_bankruptcies        697\n",
       "dtype: int64"
      ]
     },
     "execution_count": 23,
     "metadata": {},
     "output_type": "execute_result"
    }
   ],
   "source": [
    "data_reformed.isna().sum()"
   ]
  },
  {
   "cell_type": "code",
   "execution_count": 24,
   "metadata": {},
   "outputs": [],
   "source": [
    "data_reformed.to_csv(\"semi_cleaned_loan.csv\",encoding=\"utf-8\",index=False)"
   ]
  },
  {
   "cell_type": "code",
   "execution_count": null,
   "metadata": {},
   "outputs": [],
   "source": []
  }
 ],
 "metadata": {
  "interpreter": {
   "hash": "9ef36e923739aaa2969d170e45549f355a52fd104a638bee7fe8902a3b10ab30"
  },
  "kernelspec": {
   "display_name": "Python 3 (ipykernel)",
   "language": "python",
   "name": "python3"
  },
  "language_info": {
   "codemirror_mode": {
    "name": "ipython",
    "version": 3
   },
   "file_extension": ".py",
   "mimetype": "text/x-python",
   "name": "python",
   "nbconvert_exporter": "python",
   "pygments_lexer": "ipython3",
   "version": "3.10.4"
  }
 },
 "nbformat": 4,
 "nbformat_minor": 2
}
