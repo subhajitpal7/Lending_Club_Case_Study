{
 "cells": [
  {
   "cell_type": "code",
   "execution_count": 422,
   "metadata": {},
   "outputs": [],
   "source": [
    "#importing the necessary Libraries\n",
    "import pandas as pd\n",
    "import numpy as np\n",
    "import seaborn as sns\n",
    "import matplotlib.pyplot as plt\n",
    "import plotly.express as px\n",
    "%matplotlib inline\n",
    "import warnings\n"
   ]
  },
  {
   "cell_type": "code",
   "execution_count": 423,
   "metadata": {},
   "outputs": [
    {
     "name": "stderr",
     "output_type": "stream",
     "text": [
      "/tmp/ipykernel_41815/3534889629.py:2: DtypeWarning:\n",
      "\n",
      "Columns (47) have mixed types. Specify dtype option on import or set low_memory=False.\n",
      "\n"
     ]
    },
    {
     "name": "stdout",
     "output_type": "stream",
     "text": [
      "mths_since_last_major_derog 39717\n",
      "annual_inc_joint 39717\n",
      "dti_joint 39717\n",
      "verification_status_joint 39717\n",
      "tot_coll_amt 39717\n",
      "tot_cur_bal 39717\n",
      "open_acc_6m 39717\n",
      "open_il_6m 39717\n",
      "open_il_12m 39717\n",
      "open_il_24m 39717\n",
      "mths_since_rcnt_il 39717\n",
      "total_bal_il 39717\n",
      "il_util 39717\n",
      "open_rv_12m 39717\n",
      "open_rv_24m 39717\n",
      "max_bal_bc 39717\n",
      "all_util 39717\n",
      "total_rev_hi_lim 39717\n",
      "inq_fi 39717\n",
      "total_cu_tl 39717\n",
      "inq_last_12m 39717\n",
      "acc_open_past_24mths 39717\n",
      "avg_cur_bal 39717\n",
      "bc_open_to_buy 39717\n",
      "bc_util 39717\n",
      "mo_sin_old_il_acct 39717\n",
      "mo_sin_old_rev_tl_op 39717\n",
      "mo_sin_rcnt_rev_tl_op 39717\n",
      "mo_sin_rcnt_tl 39717\n",
      "mort_acc 39717\n",
      "mths_since_recent_bc 39717\n",
      "mths_since_recent_bc_dlq 39717\n",
      "mths_since_recent_inq 39717\n",
      "mths_since_recent_revol_delinq 39717\n",
      "num_accts_ever_120_pd 39717\n",
      "num_actv_bc_tl 39717\n",
      "num_actv_rev_tl 39717\n",
      "num_bc_sats 39717\n",
      "num_bc_tl 39717\n",
      "num_il_tl 39717\n",
      "num_op_rev_tl 39717\n",
      "num_rev_accts 39717\n",
      "num_rev_tl_bal_gt_0 39717\n",
      "num_sats 39717\n",
      "num_tl_120dpd_2m 39717\n",
      "num_tl_30dpd 39717\n",
      "num_tl_90g_dpd_24m 39717\n",
      "num_tl_op_past_12m 39717\n",
      "pct_tl_nvr_dlq 39717\n",
      "percent_bc_gt_75 39717\n",
      "tot_hi_cred_lim 39717\n",
      "total_bal_ex_mort 39717\n",
      "total_bc_limit 39717\n",
      "total_il_high_credit_limit 39717\n",
      "54\n"
     ]
    }
   ],
   "source": [
    "#reading the loan.csv data\n",
    "data=pd.read_csv(\"data/loan.csv\",index_col=0)\n",
    "count=0\n",
    "total_missing_value_cols=[]\n",
    "for col in data.columns:\n",
    "    if data[col].isnull().sum() == 39717:\n",
    "        print(col,data[col].isnull().count())\n",
    "        count+=1\n",
    "        total_missing_value_cols.append(col)\n",
    "\n",
    "print(count)"
   ]
  },
  {
   "cell_type": "code",
   "execution_count": 424,
   "metadata": {},
   "outputs": [],
   "source": [
    "data.shape\n",
    "data_reformed=data.copy()\n",
    "data_reformed=data_reformed.drop(total_missing_value_cols,axis=1)"
   ]
  },
  {
   "cell_type": "code",
   "execution_count": 425,
   "metadata": {},
   "outputs": [
    {
     "name": "stdout",
     "output_type": "stream",
     "text": [
      "desc column with 32.58050708764509% missing values\n",
      "mths_since_last_delinq column with 64.66248709620565% missing values\n",
      "mths_since_last_record column with 92.98537150338646% missing values\n",
      "next_pymnt_d column with 97.12969257496789% missing values\n"
     ]
    }
   ],
   "source": [
    "data_reformed.shape\n",
    "data_reformed.isnull().sum().sort_values(ascending=False)\n",
    "cols_with_above_30_null_values=[]\n",
    "for col in data_reformed.columns:\n",
    "    missing_val_perc=100*(data_reformed[col].isnull().sum()/data_reformed.shape[0])\n",
    "    if missing_val_perc>30:\n",
    "        print(\"{} column with {}% missing values\".format(col,missing_val_perc))\n",
    "        cols_with_above_30_null_values.append(col)"
   ]
  },
  {
   "cell_type": "code",
   "execution_count": 426,
   "metadata": {},
   "outputs": [],
   "source": [
    "\n",
    "data_reformed=data_reformed.drop(cols_with_above_30_null_values,axis=1)"
   ]
  },
  {
   "cell_type": "code",
   "execution_count": 427,
   "metadata": {},
   "outputs": [
    {
     "data": {
      "text/plain": [
       "(39717, 52)"
      ]
     },
     "execution_count": 427,
     "metadata": {},
     "output_type": "execute_result"
    }
   ],
   "source": [
    "data_reformed.shape"
   ]
  },
  {
   "cell_type": "code",
   "execution_count": 428,
   "metadata": {},
   "outputs": [
    {
     "data": {
      "text/plain": [
       "emp_title                     6.191\n",
       "emp_length                    2.707\n",
       "title                         0.028\n",
       "revol_util                    0.126\n",
       "last_pymnt_d                  0.179\n",
       "last_credit_pull_d            0.005\n",
       "collections_12_mths_ex_med    0.141\n",
       "chargeoff_within_12_mths      0.141\n",
       "pub_rec_bankruptcies          1.755\n",
       "tax_liens                     0.098\n",
       "dtype: float64"
      ]
     },
     "execution_count": 428,
     "metadata": {},
     "output_type": "execute_result"
    }
   ],
   "source": [
    "missing_perc=round(100*(data_reformed.isnull().sum()/data_reformed.shape[0]),3)\n",
    "missing_perc[missing_perc>0]"
   ]
  },
  {
   "cell_type": "code",
   "execution_count": 429,
   "metadata": {},
   "outputs": [
    {
     "name": "stdout",
     "output_type": "stream",
     "text": [
      "emp_title with 28821 number of unique values\n",
      "emp_length with 12 number of unique values\n",
      "title with 19616 number of unique values\n",
      "revol_util with 1090 number of unique values\n",
      "last_pymnt_d with 102 number of unique values\n",
      "last_credit_pull_d with 107 number of unique values\n",
      "collections_12_mths_ex_med with 2 number of unique values\n",
      "chargeoff_within_12_mths with 2 number of unique values\n",
      "pub_rec_bankruptcies with 4 number of unique values\n",
      "tax_liens with 2 number of unique values\n"
     ]
    }
   ],
   "source": [
    "def print_unique_valuecount(df,col):\n",
    "    print(f'{col} with {len(df[col].unique())} number of unique values')\n",
    "cols=[\"emp_title\",\"emp_length\",\"title\",\"revol_util\",\"last_pymnt_d\",\n",
    "      \"last_credit_pull_d\",\"collections_12_mths_ex_med\",\n",
    "      \"chargeoff_within_12_mths\",\"pub_rec_bankruptcies\",\"tax_liens\"]\n",
    "for col in cols:\n",
    "    print_unique_valuecount(data_reformed,col)\n"
   ]
  },
  {
   "cell_type": "code",
   "execution_count": null,
   "metadata": {
    "scrolled": false
   },
   "outputs": [],
   "source": []
  },
  {
   "cell_type": "code",
   "execution_count": 430,
   "metadata": {},
   "outputs": [
    {
     "data": {
      "text/plain": [
       "member_id                     39717\n",
       "url                           39717\n",
       "total_pymnt                   37850\n",
       "total_pymnt_inv               37518\n",
       "total_rec_int                 35148\n",
       "last_pymnt_amnt               34930\n",
       "emp_title                     28820\n",
       "revol_bal                     21711\n",
       "title                         19615\n",
       "installment                   15383\n",
       "funded_amnt_inv                8205\n",
       "total_rec_prncp                7976\n",
       "annual_inc                     5318\n",
       "recoveries                     4040\n",
       "dti                            2868\n",
       "collection_recovery_fee        2616\n",
       "total_rec_late_fee             1356\n",
       "out_prncp_inv                  1138\n",
       "out_prncp                      1137\n",
       "revol_util                     1089\n",
       "funded_amnt                    1041\n",
       "loan_amnt                       885\n",
       "zip_code                        823\n",
       "earliest_cr_line                526\n",
       "int_rate                        371\n",
       "last_credit_pull_d              106\n",
       "last_pymnt_d                    101\n",
       "total_acc                        82\n",
       "issue_d                          55\n",
       "addr_state                       50\n",
       "open_acc                         40\n",
       "sub_grade                        35\n",
       "purpose                          14\n",
       "delinq_2yrs                      11\n",
       "emp_length                       11\n",
       "inq_last_6mths                    9\n",
       "grade                             7\n",
       "home_ownership                    5\n",
       "pub_rec                           5\n",
       "pub_rec_bankruptcies              3\n",
       "loan_status                       3\n",
       "verification_status               3\n",
       "term                              2\n",
       "acc_now_delinq                    1\n",
       "delinq_amnt                       1\n",
       "chargeoff_within_12_mths          1\n",
       "initial_list_status               1\n",
       "application_type                  1\n",
       "policy_code                       1\n",
       "collections_12_mths_ex_med        1\n",
       "pymnt_plan                        1\n",
       "tax_liens                         1\n",
       "dtype: int64"
      ]
     },
     "execution_count": 430,
     "metadata": {},
     "output_type": "execute_result"
    }
   ],
   "source": [
    "data_reformed.nunique().sort_values(ascending=False)"
   ]
  },
  {
   "cell_type": "markdown",
   "metadata": {},
   "source": [
    "We are observing that the columnns namely\n",
    "acc_now_delinq,\n",
    "delinq_amnt,\n",
    "chargeoff_within_12_mths,\n",
    "initial_list_status,\n",
    "application_type,\n",
    "policy_code,\n",
    "collections_12_mths_ex_med,\n",
    "pymnt_plan,\n",
    "tax_liens\n",
    "\n",
    "are categorical variables with only one unique value which doesn't provide much to the analysis of the loan status both in the case of univariate and bivariate analysis\n",
    "so we can remove these columns\n",
    "\n",
    "Also member_id and url variable are total unique values and we can remove them as well\n"
   ]
  },
  {
   "cell_type": "code",
   "execution_count": 431,
   "metadata": {},
   "outputs": [
    {
     "data": {
      "text/plain": [
       "(39717, 41)"
      ]
     },
     "execution_count": 431,
     "metadata": {},
     "output_type": "execute_result"
    }
   ],
   "source": [
    "cols_to_be_removed=[\"acc_now_delinq\", \"delinq_amnt\", \"chargeoff_within_12_mths\",\n",
    "                    \"initial_list_status\", \"application_type\", \"policy_code\"\n",
    "                    , \"collections_12_mths_ex_med\", \"pymnt_plan\", \"tax_liens\",\"member_id\",\"url\"]\n",
    "data_reformed=data_reformed.drop(cols_to_be_removed,axis=1)\n",
    "data_reformed.shape"
   ]
  },
  {
   "cell_type": "code",
   "execution_count": null,
   "metadata": {},
   "outputs": [],
   "source": []
  },
  {
   "cell_type": "code",
   "execution_count": null,
   "metadata": {},
   "outputs": [],
   "source": []
  },
  {
   "cell_type": "code",
   "execution_count": 432,
   "metadata": {},
   "outputs": [],
   "source": [
    "data_reformed.to_csv(\"data/semi_cleaned_loan.csv\",encoding=\"utf-8\",index=False)"
   ]
  },
  {
   "cell_type": "markdown",
   "metadata": {},
   "source": [
    "# Analysis\n"
   ]
  },
  {
   "cell_type": "code",
   "execution_count": 433,
   "metadata": {},
   "outputs": [],
   "source": [
    "cleaned_df=pd.read_csv(\"data/semi_cleaned_loan.csv\")"
   ]
  },
  {
   "cell_type": "code",
   "execution_count": 434,
   "metadata": {},
   "outputs": [
    {
     "data": {
      "text/plain": [
       "Index(['loan_amnt', 'funded_amnt', 'funded_amnt_inv', 'term', 'int_rate',\n",
       "       'installment', 'grade', 'sub_grade', 'emp_title', 'emp_length',\n",
       "       'home_ownership', 'annual_inc', 'verification_status', 'issue_d',\n",
       "       'loan_status', 'purpose', 'title', 'zip_code', 'addr_state', 'dti',\n",
       "       'delinq_2yrs', 'earliest_cr_line', 'inq_last_6mths', 'open_acc',\n",
       "       'pub_rec', 'revol_bal', 'revol_util', 'total_acc', 'out_prncp',\n",
       "       'out_prncp_inv', 'total_pymnt', 'total_pymnt_inv', 'total_rec_prncp',\n",
       "       'total_rec_int', 'total_rec_late_fee', 'recoveries',\n",
       "       'collection_recovery_fee', 'last_pymnt_d', 'last_pymnt_amnt',\n",
       "       'last_credit_pull_d', 'pub_rec_bankruptcies'],\n",
       "      dtype='object')"
      ]
     },
     "execution_count": 434,
     "metadata": {},
     "output_type": "execute_result"
    }
   ],
   "source": [
    "cleaned_df.columns"
   ]
  },
  {
   "cell_type": "markdown",
   "metadata": {},
   "source": [
    "Deleting the columns which are related to Applicants demographics and \n"
   ]
  },
  {
   "cell_type": "code",
   "execution_count": 435,
   "metadata": {},
   "outputs": [
    {
     "data": {
      "text/html": [
       "<div>\n",
       "<style scoped>\n",
       "    .dataframe tbody tr th:only-of-type {\n",
       "        vertical-align: middle;\n",
       "    }\n",
       "\n",
       "    .dataframe tbody tr th {\n",
       "        vertical-align: top;\n",
       "    }\n",
       "\n",
       "    .dataframe thead th {\n",
       "        text-align: right;\n",
       "    }\n",
       "</style>\n",
       "<table border=\"1\" class=\"dataframe\">\n",
       "  <thead>\n",
       "    <tr style=\"text-align: right;\">\n",
       "      <th></th>\n",
       "      <th>loan_amnt</th>\n",
       "      <th>funded_amnt</th>\n",
       "      <th>funded_amnt_inv</th>\n",
       "      <th>term</th>\n",
       "      <th>int_rate</th>\n",
       "      <th>installment</th>\n",
       "      <th>grade</th>\n",
       "      <th>sub_grade</th>\n",
       "      <th>emp_title</th>\n",
       "      <th>emp_length</th>\n",
       "      <th>...</th>\n",
       "      <th>total_pymnt_inv</th>\n",
       "      <th>total_rec_prncp</th>\n",
       "      <th>total_rec_int</th>\n",
       "      <th>total_rec_late_fee</th>\n",
       "      <th>recoveries</th>\n",
       "      <th>collection_recovery_fee</th>\n",
       "      <th>last_pymnt_d</th>\n",
       "      <th>last_pymnt_amnt</th>\n",
       "      <th>last_credit_pull_d</th>\n",
       "      <th>pub_rec_bankruptcies</th>\n",
       "    </tr>\n",
       "  </thead>\n",
       "  <tbody>\n",
       "    <tr>\n",
       "      <th>39697</th>\n",
       "      <td>10000</td>\n",
       "      <td>10000</td>\n",
       "      <td>400.0</td>\n",
       "      <td>36 months</td>\n",
       "      <td>10.28%</td>\n",
       "      <td>323.98</td>\n",
       "      <td>C</td>\n",
       "      <td>C1</td>\n",
       "      <td>RoadNarrows Robotics</td>\n",
       "      <td>&lt; 1 year</td>\n",
       "      <td>...</td>\n",
       "      <td>466.52</td>\n",
       "      <td>10000.0</td>\n",
       "      <td>1662.89</td>\n",
       "      <td>0.0</td>\n",
       "      <td>0.0</td>\n",
       "      <td>0.0</td>\n",
       "      <td>Jul-10</td>\n",
       "      <td>328.93</td>\n",
       "      <td>Oct-10</td>\n",
       "      <td>NaN</td>\n",
       "    </tr>\n",
       "    <tr>\n",
       "      <th>39698</th>\n",
       "      <td>5000</td>\n",
       "      <td>5000</td>\n",
       "      <td>675.0</td>\n",
       "      <td>36 months</td>\n",
       "      <td>9.01%</td>\n",
       "      <td>159.03</td>\n",
       "      <td>B</td>\n",
       "      <td>B2</td>\n",
       "      <td>Viget Labs</td>\n",
       "      <td>1 year</td>\n",
       "      <td>...</td>\n",
       "      <td>772.88</td>\n",
       "      <td>5000.0</td>\n",
       "      <td>725.02</td>\n",
       "      <td>0.0</td>\n",
       "      <td>0.0</td>\n",
       "      <td>0.0</td>\n",
       "      <td>Jul-10</td>\n",
       "      <td>160.02</td>\n",
       "      <td>Jul-10</td>\n",
       "      <td>NaN</td>\n",
       "    </tr>\n",
       "    <tr>\n",
       "      <th>39699</th>\n",
       "      <td>5100</td>\n",
       "      <td>5100</td>\n",
       "      <td>575.0</td>\n",
       "      <td>36 months</td>\n",
       "      <td>8.38%</td>\n",
       "      <td>160.72</td>\n",
       "      <td>A</td>\n",
       "      <td>A5</td>\n",
       "      <td>Northwestern School Corporation</td>\n",
       "      <td>4 years</td>\n",
       "      <td>...</td>\n",
       "      <td>651.56</td>\n",
       "      <td>5100.0</td>\n",
       "      <td>679.03</td>\n",
       "      <td>0.0</td>\n",
       "      <td>0.0</td>\n",
       "      <td>0.0</td>\n",
       "      <td>Apr-10</td>\n",
       "      <td>638.15</td>\n",
       "      <td>Jun-07</td>\n",
       "      <td>NaN</td>\n",
       "    </tr>\n",
       "    <tr>\n",
       "      <th>39700</th>\n",
       "      <td>5400</td>\n",
       "      <td>5400</td>\n",
       "      <td>200.0</td>\n",
       "      <td>36 months</td>\n",
       "      <td>7.75%</td>\n",
       "      <td>168.60</td>\n",
       "      <td>A</td>\n",
       "      <td>A3</td>\n",
       "      <td>NaN</td>\n",
       "      <td>&lt; 1 year</td>\n",
       "      <td>...</td>\n",
       "      <td>224.80</td>\n",
       "      <td>5400.0</td>\n",
       "      <td>669.34</td>\n",
       "      <td>0.0</td>\n",
       "      <td>0.0</td>\n",
       "      <td>0.0</td>\n",
       "      <td>Jul-10</td>\n",
       "      <td>169.09</td>\n",
       "      <td>Dec-13</td>\n",
       "      <td>NaN</td>\n",
       "    </tr>\n",
       "    <tr>\n",
       "      <th>39701</th>\n",
       "      <td>5300</td>\n",
       "      <td>5300</td>\n",
       "      <td>600.0</td>\n",
       "      <td>36 months</td>\n",
       "      <td>8.38%</td>\n",
       "      <td>167.02</td>\n",
       "      <td>A</td>\n",
       "      <td>A5</td>\n",
       "      <td>Peerless Pump Company</td>\n",
       "      <td>7 years</td>\n",
       "      <td>...</td>\n",
       "      <td>680.67</td>\n",
       "      <td>5300.0</td>\n",
       "      <td>712.56</td>\n",
       "      <td>0.0</td>\n",
       "      <td>0.0</td>\n",
       "      <td>0.0</td>\n",
       "      <td>Jul-10</td>\n",
       "      <td>170.05</td>\n",
       "      <td>Jul-10</td>\n",
       "      <td>NaN</td>\n",
       "    </tr>\n",
       "    <tr>\n",
       "      <th>39702</th>\n",
       "      <td>5000</td>\n",
       "      <td>5000</td>\n",
       "      <td>850.0</td>\n",
       "      <td>36 months</td>\n",
       "      <td>11.22%</td>\n",
       "      <td>164.23</td>\n",
       "      <td>C</td>\n",
       "      <td>C4</td>\n",
       "      <td>Self-employed</td>\n",
       "      <td>1 year</td>\n",
       "      <td>...</td>\n",
       "      <td>1005.05</td>\n",
       "      <td>5000.0</td>\n",
       "      <td>912.05</td>\n",
       "      <td>0.0</td>\n",
       "      <td>0.0</td>\n",
       "      <td>0.0</td>\n",
       "      <td>Jul-10</td>\n",
       "      <td>166.25</td>\n",
       "      <td>Oct-12</td>\n",
       "      <td>NaN</td>\n",
       "    </tr>\n",
       "    <tr>\n",
       "      <th>39703</th>\n",
       "      <td>3000</td>\n",
       "      <td>3000</td>\n",
       "      <td>2550.0</td>\n",
       "      <td>36 months</td>\n",
       "      <td>10.28%</td>\n",
       "      <td>97.20</td>\n",
       "      <td>C</td>\n",
       "      <td>C1</td>\n",
       "      <td>Oracle</td>\n",
       "      <td>2 years</td>\n",
       "      <td>...</td>\n",
       "      <td>2974.03</td>\n",
       "      <td>3000.0</td>\n",
       "      <td>498.86</td>\n",
       "      <td>0.0</td>\n",
       "      <td>0.0</td>\n",
       "      <td>0.0</td>\n",
       "      <td>Jul-10</td>\n",
       "      <td>98.49</td>\n",
       "      <td>Feb-13</td>\n",
       "      <td>NaN</td>\n",
       "    </tr>\n",
       "    <tr>\n",
       "      <th>39704</th>\n",
       "      <td>3000</td>\n",
       "      <td>3000</td>\n",
       "      <td>950.0</td>\n",
       "      <td>36 months</td>\n",
       "      <td>8.70%</td>\n",
       "      <td>94.98</td>\n",
       "      <td>B</td>\n",
       "      <td>B1</td>\n",
       "      <td>NaN</td>\n",
       "      <td>&lt; 1 year</td>\n",
       "      <td>...</td>\n",
       "      <td>1082.73</td>\n",
       "      <td>3000.0</td>\n",
       "      <td>419.14</td>\n",
       "      <td>0.0</td>\n",
       "      <td>0.0</td>\n",
       "      <td>0.0</td>\n",
       "      <td>Jul-10</td>\n",
       "      <td>97.45</td>\n",
       "      <td>Jul-10</td>\n",
       "      <td>NaN</td>\n",
       "    </tr>\n",
       "    <tr>\n",
       "      <th>39705</th>\n",
       "      <td>5000</td>\n",
       "      <td>5000</td>\n",
       "      <td>250.0</td>\n",
       "      <td>36 months</td>\n",
       "      <td>7.43%</td>\n",
       "      <td>155.38</td>\n",
       "      <td>A</td>\n",
       "      <td>A2</td>\n",
       "      <td>MetraTech</td>\n",
       "      <td>8 years</td>\n",
       "      <td>...</td>\n",
       "      <td>279.69</td>\n",
       "      <td>5000.0</td>\n",
       "      <td>593.63</td>\n",
       "      <td>0.0</td>\n",
       "      <td>0.0</td>\n",
       "      <td>0.0</td>\n",
       "      <td>Jul-10</td>\n",
       "      <td>157.02</td>\n",
       "      <td>Jun-10</td>\n",
       "      <td>NaN</td>\n",
       "    </tr>\n",
       "    <tr>\n",
       "      <th>39706</th>\n",
       "      <td>5000</td>\n",
       "      <td>5000</td>\n",
       "      <td>150.0</td>\n",
       "      <td>36 months</td>\n",
       "      <td>8.07%</td>\n",
       "      <td>156.84</td>\n",
       "      <td>A</td>\n",
       "      <td>A4</td>\n",
       "      <td>NaN</td>\n",
       "      <td>&lt; 1 year</td>\n",
       "      <td>...</td>\n",
       "      <td>169.38</td>\n",
       "      <td>5000.0</td>\n",
       "      <td>645.96</td>\n",
       "      <td>0.0</td>\n",
       "      <td>0.0</td>\n",
       "      <td>0.0</td>\n",
       "      <td>Jul-10</td>\n",
       "      <td>157.31</td>\n",
       "      <td>Jun-07</td>\n",
       "      <td>NaN</td>\n",
       "    </tr>\n",
       "    <tr>\n",
       "      <th>39707</th>\n",
       "      <td>5000</td>\n",
       "      <td>5000</td>\n",
       "      <td>525.0</td>\n",
       "      <td>36 months</td>\n",
       "      <td>9.33%</td>\n",
       "      <td>159.77</td>\n",
       "      <td>B</td>\n",
       "      <td>B3</td>\n",
       "      <td>Stark and Roth Inc</td>\n",
       "      <td>2 years</td>\n",
       "      <td>...</td>\n",
       "      <td>603.91</td>\n",
       "      <td>5000.0</td>\n",
       "      <td>751.53</td>\n",
       "      <td>0.0</td>\n",
       "      <td>0.0</td>\n",
       "      <td>0.0</td>\n",
       "      <td>Jul-10</td>\n",
       "      <td>161.55</td>\n",
       "      <td>Jun-07</td>\n",
       "      <td>NaN</td>\n",
       "    </tr>\n",
       "    <tr>\n",
       "      <th>39708</th>\n",
       "      <td>5000</td>\n",
       "      <td>5000</td>\n",
       "      <td>375.0</td>\n",
       "      <td>36 months</td>\n",
       "      <td>9.96%</td>\n",
       "      <td>161.25</td>\n",
       "      <td>B</td>\n",
       "      <td>B5</td>\n",
       "      <td>Millenium Group</td>\n",
       "      <td>4 years</td>\n",
       "      <td>...</td>\n",
       "      <td>435.36</td>\n",
       "      <td>5000.0</td>\n",
       "      <td>804.73</td>\n",
       "      <td>0.0</td>\n",
       "      <td>0.0</td>\n",
       "      <td>0.0</td>\n",
       "      <td>Jul-10</td>\n",
       "      <td>162.07</td>\n",
       "      <td>Jun-10</td>\n",
       "      <td>NaN</td>\n",
       "    </tr>\n",
       "    <tr>\n",
       "      <th>39709</th>\n",
       "      <td>5000</td>\n",
       "      <td>5000</td>\n",
       "      <td>675.0</td>\n",
       "      <td>36 months</td>\n",
       "      <td>11.22%</td>\n",
       "      <td>164.23</td>\n",
       "      <td>C</td>\n",
       "      <td>C4</td>\n",
       "      <td>Self-Employeed</td>\n",
       "      <td>&lt; 1 year</td>\n",
       "      <td>...</td>\n",
       "      <td>798.13</td>\n",
       "      <td>5000.0</td>\n",
       "      <td>912.05</td>\n",
       "      <td>0.0</td>\n",
       "      <td>0.0</td>\n",
       "      <td>0.0</td>\n",
       "      <td>Jul-10</td>\n",
       "      <td>165.17</td>\n",
       "      <td>Jun-07</td>\n",
       "      <td>NaN</td>\n",
       "    </tr>\n",
       "    <tr>\n",
       "      <th>39710</th>\n",
       "      <td>5000</td>\n",
       "      <td>5000</td>\n",
       "      <td>250.0</td>\n",
       "      <td>36 months</td>\n",
       "      <td>7.43%</td>\n",
       "      <td>155.38</td>\n",
       "      <td>A</td>\n",
       "      <td>A2</td>\n",
       "      <td>Rush Univ Med Grp</td>\n",
       "      <td>1 year</td>\n",
       "      <td>...</td>\n",
       "      <td>279.68</td>\n",
       "      <td>5000.0</td>\n",
       "      <td>593.63</td>\n",
       "      <td>0.0</td>\n",
       "      <td>0.0</td>\n",
       "      <td>0.0</td>\n",
       "      <td>Jul-10</td>\n",
       "      <td>156.29</td>\n",
       "      <td>Jun-07</td>\n",
       "      <td>NaN</td>\n",
       "    </tr>\n",
       "    <tr>\n",
       "      <th>39711</th>\n",
       "      <td>5000</td>\n",
       "      <td>5000</td>\n",
       "      <td>700.0</td>\n",
       "      <td>36 months</td>\n",
       "      <td>8.70%</td>\n",
       "      <td>158.30</td>\n",
       "      <td>B</td>\n",
       "      <td>B1</td>\n",
       "      <td>A. F. Wolfers, Inc.</td>\n",
       "      <td>5 years</td>\n",
       "      <td>...</td>\n",
       "      <td>797.80</td>\n",
       "      <td>5000.0</td>\n",
       "      <td>698.60</td>\n",
       "      <td>0.0</td>\n",
       "      <td>0.0</td>\n",
       "      <td>0.0</td>\n",
       "      <td>Jul-10</td>\n",
       "      <td>159.83</td>\n",
       "      <td>Nov-14</td>\n",
       "      <td>NaN</td>\n",
       "    </tr>\n",
       "    <tr>\n",
       "      <th>39712</th>\n",
       "      <td>2500</td>\n",
       "      <td>2500</td>\n",
       "      <td>1075.0</td>\n",
       "      <td>36 months</td>\n",
       "      <td>8.07%</td>\n",
       "      <td>78.42</td>\n",
       "      <td>A</td>\n",
       "      <td>A4</td>\n",
       "      <td>FiSite Research</td>\n",
       "      <td>4 years</td>\n",
       "      <td>...</td>\n",
       "      <td>1213.88</td>\n",
       "      <td>2500.0</td>\n",
       "      <td>322.97</td>\n",
       "      <td>0.0</td>\n",
       "      <td>0.0</td>\n",
       "      <td>0.0</td>\n",
       "      <td>Jul-10</td>\n",
       "      <td>80.90</td>\n",
       "      <td>Jun-10</td>\n",
       "      <td>NaN</td>\n",
       "    </tr>\n",
       "    <tr>\n",
       "      <th>39713</th>\n",
       "      <td>8500</td>\n",
       "      <td>8500</td>\n",
       "      <td>875.0</td>\n",
       "      <td>36 months</td>\n",
       "      <td>10.28%</td>\n",
       "      <td>275.38</td>\n",
       "      <td>C</td>\n",
       "      <td>C1</td>\n",
       "      <td>Squarewave Solutions, Ltd.</td>\n",
       "      <td>3 years</td>\n",
       "      <td>...</td>\n",
       "      <td>1020.51</td>\n",
       "      <td>8500.0</td>\n",
       "      <td>1413.49</td>\n",
       "      <td>0.0</td>\n",
       "      <td>0.0</td>\n",
       "      <td>0.0</td>\n",
       "      <td>Jul-10</td>\n",
       "      <td>281.94</td>\n",
       "      <td>Jul-10</td>\n",
       "      <td>NaN</td>\n",
       "    </tr>\n",
       "    <tr>\n",
       "      <th>39714</th>\n",
       "      <td>5000</td>\n",
       "      <td>5000</td>\n",
       "      <td>1325.0</td>\n",
       "      <td>36 months</td>\n",
       "      <td>8.07%</td>\n",
       "      <td>156.84</td>\n",
       "      <td>A</td>\n",
       "      <td>A4</td>\n",
       "      <td>NaN</td>\n",
       "      <td>&lt; 1 year</td>\n",
       "      <td>...</td>\n",
       "      <td>1397.12</td>\n",
       "      <td>5000.0</td>\n",
       "      <td>272.16</td>\n",
       "      <td>0.0</td>\n",
       "      <td>0.0</td>\n",
       "      <td>0.0</td>\n",
       "      <td>Apr-08</td>\n",
       "      <td>0.00</td>\n",
       "      <td>Jun-07</td>\n",
       "      <td>NaN</td>\n",
       "    </tr>\n",
       "    <tr>\n",
       "      <th>39715</th>\n",
       "      <td>5000</td>\n",
       "      <td>5000</td>\n",
       "      <td>650.0</td>\n",
       "      <td>36 months</td>\n",
       "      <td>7.43%</td>\n",
       "      <td>155.38</td>\n",
       "      <td>A</td>\n",
       "      <td>A2</td>\n",
       "      <td>NaN</td>\n",
       "      <td>&lt; 1 year</td>\n",
       "      <td>...</td>\n",
       "      <td>672.66</td>\n",
       "      <td>5000.0</td>\n",
       "      <td>174.20</td>\n",
       "      <td>0.0</td>\n",
       "      <td>0.0</td>\n",
       "      <td>0.0</td>\n",
       "      <td>Jan-08</td>\n",
       "      <td>0.00</td>\n",
       "      <td>Jun-07</td>\n",
       "      <td>NaN</td>\n",
       "    </tr>\n",
       "    <tr>\n",
       "      <th>39716</th>\n",
       "      <td>7500</td>\n",
       "      <td>7500</td>\n",
       "      <td>800.0</td>\n",
       "      <td>36 months</td>\n",
       "      <td>13.75%</td>\n",
       "      <td>255.43</td>\n",
       "      <td>E</td>\n",
       "      <td>E2</td>\n",
       "      <td>Evergreen Center</td>\n",
       "      <td>&lt; 1 year</td>\n",
       "      <td>...</td>\n",
       "      <td>980.83</td>\n",
       "      <td>7500.0</td>\n",
       "      <td>1695.26</td>\n",
       "      <td>0.0</td>\n",
       "      <td>0.0</td>\n",
       "      <td>0.0</td>\n",
       "      <td>Jun-10</td>\n",
       "      <td>256.59</td>\n",
       "      <td>Jun-10</td>\n",
       "      <td>NaN</td>\n",
       "    </tr>\n",
       "  </tbody>\n",
       "</table>\n",
       "<p>20 rows × 41 columns</p>\n",
       "</div>"
      ],
      "text/plain": [
       "       loan_amnt  funded_amnt  funded_amnt_inv        term int_rate  \\\n",
       "39697      10000        10000            400.0   36 months   10.28%   \n",
       "39698       5000         5000            675.0   36 months    9.01%   \n",
       "39699       5100         5100            575.0   36 months    8.38%   \n",
       "39700       5400         5400            200.0   36 months    7.75%   \n",
       "39701       5300         5300            600.0   36 months    8.38%   \n",
       "39702       5000         5000            850.0   36 months   11.22%   \n",
       "39703       3000         3000           2550.0   36 months   10.28%   \n",
       "39704       3000         3000            950.0   36 months    8.70%   \n",
       "39705       5000         5000            250.0   36 months    7.43%   \n",
       "39706       5000         5000            150.0   36 months    8.07%   \n",
       "39707       5000         5000            525.0   36 months    9.33%   \n",
       "39708       5000         5000            375.0   36 months    9.96%   \n",
       "39709       5000         5000            675.0   36 months   11.22%   \n",
       "39710       5000         5000            250.0   36 months    7.43%   \n",
       "39711       5000         5000            700.0   36 months    8.70%   \n",
       "39712       2500         2500           1075.0   36 months    8.07%   \n",
       "39713       8500         8500            875.0   36 months   10.28%   \n",
       "39714       5000         5000           1325.0   36 months    8.07%   \n",
       "39715       5000         5000            650.0   36 months    7.43%   \n",
       "39716       7500         7500            800.0   36 months   13.75%   \n",
       "\n",
       "       installment grade sub_grade                        emp_title  \\\n",
       "39697       323.98     C        C1             RoadNarrows Robotics   \n",
       "39698       159.03     B        B2                       Viget Labs   \n",
       "39699       160.72     A        A5  Northwestern School Corporation   \n",
       "39700       168.60     A        A3                              NaN   \n",
       "39701       167.02     A        A5            Peerless Pump Company   \n",
       "39702       164.23     C        C4                    Self-employed   \n",
       "39703        97.20     C        C1                           Oracle   \n",
       "39704        94.98     B        B1                              NaN   \n",
       "39705       155.38     A        A2                        MetraTech   \n",
       "39706       156.84     A        A4                              NaN   \n",
       "39707       159.77     B        B3               Stark and Roth Inc   \n",
       "39708       161.25     B        B5                  Millenium Group   \n",
       "39709       164.23     C        C4                   Self-Employeed   \n",
       "39710       155.38     A        A2                Rush Univ Med Grp   \n",
       "39711       158.30     B        B1              A. F. Wolfers, Inc.   \n",
       "39712        78.42     A        A4                  FiSite Research   \n",
       "39713       275.38     C        C1       Squarewave Solutions, Ltd.   \n",
       "39714       156.84     A        A4                              NaN   \n",
       "39715       155.38     A        A2                              NaN   \n",
       "39716       255.43     E        E2                 Evergreen Center   \n",
       "\n",
       "      emp_length  ... total_pymnt_inv  total_rec_prncp total_rec_int  \\\n",
       "39697   < 1 year  ...          466.52          10000.0       1662.89   \n",
       "39698     1 year  ...          772.88           5000.0        725.02   \n",
       "39699    4 years  ...          651.56           5100.0        679.03   \n",
       "39700   < 1 year  ...          224.80           5400.0        669.34   \n",
       "39701    7 years  ...          680.67           5300.0        712.56   \n",
       "39702     1 year  ...         1005.05           5000.0        912.05   \n",
       "39703    2 years  ...         2974.03           3000.0        498.86   \n",
       "39704   < 1 year  ...         1082.73           3000.0        419.14   \n",
       "39705    8 years  ...          279.69           5000.0        593.63   \n",
       "39706   < 1 year  ...          169.38           5000.0        645.96   \n",
       "39707    2 years  ...          603.91           5000.0        751.53   \n",
       "39708    4 years  ...          435.36           5000.0        804.73   \n",
       "39709   < 1 year  ...          798.13           5000.0        912.05   \n",
       "39710     1 year  ...          279.68           5000.0        593.63   \n",
       "39711    5 years  ...          797.80           5000.0        698.60   \n",
       "39712    4 years  ...         1213.88           2500.0        322.97   \n",
       "39713    3 years  ...         1020.51           8500.0       1413.49   \n",
       "39714   < 1 year  ...         1397.12           5000.0        272.16   \n",
       "39715   < 1 year  ...          672.66           5000.0        174.20   \n",
       "39716   < 1 year  ...          980.83           7500.0       1695.26   \n",
       "\n",
       "      total_rec_late_fee recoveries collection_recovery_fee last_pymnt_d  \\\n",
       "39697                0.0        0.0                     0.0       Jul-10   \n",
       "39698                0.0        0.0                     0.0       Jul-10   \n",
       "39699                0.0        0.0                     0.0       Apr-10   \n",
       "39700                0.0        0.0                     0.0       Jul-10   \n",
       "39701                0.0        0.0                     0.0       Jul-10   \n",
       "39702                0.0        0.0                     0.0       Jul-10   \n",
       "39703                0.0        0.0                     0.0       Jul-10   \n",
       "39704                0.0        0.0                     0.0       Jul-10   \n",
       "39705                0.0        0.0                     0.0       Jul-10   \n",
       "39706                0.0        0.0                     0.0       Jul-10   \n",
       "39707                0.0        0.0                     0.0       Jul-10   \n",
       "39708                0.0        0.0                     0.0       Jul-10   \n",
       "39709                0.0        0.0                     0.0       Jul-10   \n",
       "39710                0.0        0.0                     0.0       Jul-10   \n",
       "39711                0.0        0.0                     0.0       Jul-10   \n",
       "39712                0.0        0.0                     0.0       Jul-10   \n",
       "39713                0.0        0.0                     0.0       Jul-10   \n",
       "39714                0.0        0.0                     0.0       Apr-08   \n",
       "39715                0.0        0.0                     0.0       Jan-08   \n",
       "39716                0.0        0.0                     0.0       Jun-10   \n",
       "\n",
       "      last_pymnt_amnt last_credit_pull_d  pub_rec_bankruptcies  \n",
       "39697          328.93             Oct-10                   NaN  \n",
       "39698          160.02             Jul-10                   NaN  \n",
       "39699          638.15             Jun-07                   NaN  \n",
       "39700          169.09             Dec-13                   NaN  \n",
       "39701          170.05             Jul-10                   NaN  \n",
       "39702          166.25             Oct-12                   NaN  \n",
       "39703           98.49             Feb-13                   NaN  \n",
       "39704           97.45             Jul-10                   NaN  \n",
       "39705          157.02             Jun-10                   NaN  \n",
       "39706          157.31             Jun-07                   NaN  \n",
       "39707          161.55             Jun-07                   NaN  \n",
       "39708          162.07             Jun-10                   NaN  \n",
       "39709          165.17             Jun-07                   NaN  \n",
       "39710          156.29             Jun-07                   NaN  \n",
       "39711          159.83             Nov-14                   NaN  \n",
       "39712           80.90             Jun-10                   NaN  \n",
       "39713          281.94             Jul-10                   NaN  \n",
       "39714            0.00             Jun-07                   NaN  \n",
       "39715            0.00             Jun-07                   NaN  \n",
       "39716          256.59             Jun-10                   NaN  \n",
       "\n",
       "[20 rows x 41 columns]"
      ]
     },
     "execution_count": 435,
     "metadata": {},
     "output_type": "execute_result"
    }
   ],
   "source": [
    "cleaned_df.tail(20)"
   ]
  },
  {
   "cell_type": "markdown",
   "metadata": {},
   "source": [
    "Deleting the Applicants customer behaviout variables"
   ]
  },
  {
   "cell_type": "code",
   "execution_count": 436,
   "metadata": {},
   "outputs": [
    {
     "data": {
      "text/plain": [
       "Index(['loan_amnt', 'funded_amnt', 'funded_amnt_inv', 'term', 'int_rate',\n",
       "       'installment', 'grade', 'sub_grade', 'emp_title', 'emp_length',\n",
       "       'home_ownership', 'annual_inc', 'verification_status', 'issue_d',\n",
       "       'loan_status', 'purpose', 'title', 'zip_code', 'addr_state', 'dti',\n",
       "       'delinq_2yrs', 'earliest_cr_line', 'inq_last_6mths', 'open_acc',\n",
       "       'pub_rec', 'revol_bal', 'revol_util', 'total_acc', 'out_prncp',\n",
       "       'out_prncp_inv', 'total_pymnt', 'total_pymnt_inv', 'total_rec_prncp',\n",
       "       'total_rec_int', 'total_rec_late_fee', 'recoveries',\n",
       "       'collection_recovery_fee', 'last_pymnt_d', 'last_pymnt_amnt',\n",
       "       'last_credit_pull_d', 'pub_rec_bankruptcies'],\n",
       "      dtype='object')"
      ]
     },
     "execution_count": 436,
     "metadata": {},
     "output_type": "execute_result"
    }
   ],
   "source": [
    "cleaned_df.columns"
   ]
  },
  {
   "cell_type": "code",
   "execution_count": 437,
   "metadata": {},
   "outputs": [],
   "source": [
    "cols_cust_behaviour=[\"open_acc\",\"pub_rec\",\"revol_util\",\n",
    "                     \"total_acc\",\"out_prncp\",\"out_prncp_inv\",\n",
    "                     \"out_prncp_inv\",\"total_pymnt\",\"total_pymnt_inv\",\n",
    "                     \"total_rec_int\",\"total_rec_late_fee\",\n",
    "                     \"recoveries\",\"collection_recovery_fee\",\"last_pymnt_d\",\n",
    "                     \"last_pymnt_amnt\",\"last_credit_pull_d\",\"inq_last_6mths\",\"delinq_2yrs\"]\n",
    "cleaned_df=cleaned_df.drop(cols_cust_behaviour,axis=1)"
   ]
  },
  {
   "cell_type": "code",
   "execution_count": 438,
   "metadata": {},
   "outputs": [
    {
     "data": {
      "text/html": [
       "<div>\n",
       "<style scoped>\n",
       "    .dataframe tbody tr th:only-of-type {\n",
       "        vertical-align: middle;\n",
       "    }\n",
       "\n",
       "    .dataframe tbody tr th {\n",
       "        vertical-align: top;\n",
       "    }\n",
       "\n",
       "    .dataframe thead th {\n",
       "        text-align: right;\n",
       "    }\n",
       "</style>\n",
       "<table border=\"1\" class=\"dataframe\">\n",
       "  <thead>\n",
       "    <tr style=\"text-align: right;\">\n",
       "      <th></th>\n",
       "      <th>loan_amnt</th>\n",
       "      <th>funded_amnt</th>\n",
       "      <th>funded_amnt_inv</th>\n",
       "      <th>term</th>\n",
       "      <th>int_rate</th>\n",
       "      <th>installment</th>\n",
       "      <th>grade</th>\n",
       "      <th>sub_grade</th>\n",
       "      <th>emp_title</th>\n",
       "      <th>emp_length</th>\n",
       "      <th>...</th>\n",
       "      <th>loan_status</th>\n",
       "      <th>purpose</th>\n",
       "      <th>title</th>\n",
       "      <th>zip_code</th>\n",
       "      <th>addr_state</th>\n",
       "      <th>dti</th>\n",
       "      <th>earliest_cr_line</th>\n",
       "      <th>revol_bal</th>\n",
       "      <th>total_rec_prncp</th>\n",
       "      <th>pub_rec_bankruptcies</th>\n",
       "    </tr>\n",
       "  </thead>\n",
       "  <tbody>\n",
       "    <tr>\n",
       "      <th>0</th>\n",
       "      <td>5000</td>\n",
       "      <td>5000</td>\n",
       "      <td>4975.0</td>\n",
       "      <td>36 months</td>\n",
       "      <td>10.65%</td>\n",
       "      <td>162.87</td>\n",
       "      <td>B</td>\n",
       "      <td>B2</td>\n",
       "      <td>NaN</td>\n",
       "      <td>10+ years</td>\n",
       "      <td>...</td>\n",
       "      <td>Fully Paid</td>\n",
       "      <td>credit_card</td>\n",
       "      <td>Computer</td>\n",
       "      <td>860xx</td>\n",
       "      <td>AZ</td>\n",
       "      <td>27.65</td>\n",
       "      <td>Jan-85</td>\n",
       "      <td>13648</td>\n",
       "      <td>5000.00</td>\n",
       "      <td>0.0</td>\n",
       "    </tr>\n",
       "    <tr>\n",
       "      <th>1</th>\n",
       "      <td>2500</td>\n",
       "      <td>2500</td>\n",
       "      <td>2500.0</td>\n",
       "      <td>60 months</td>\n",
       "      <td>15.27%</td>\n",
       "      <td>59.83</td>\n",
       "      <td>C</td>\n",
       "      <td>C4</td>\n",
       "      <td>Ryder</td>\n",
       "      <td>&lt; 1 year</td>\n",
       "      <td>...</td>\n",
       "      <td>Charged Off</td>\n",
       "      <td>car</td>\n",
       "      <td>bike</td>\n",
       "      <td>309xx</td>\n",
       "      <td>GA</td>\n",
       "      <td>1.00</td>\n",
       "      <td>Apr-99</td>\n",
       "      <td>1687</td>\n",
       "      <td>456.46</td>\n",
       "      <td>0.0</td>\n",
       "    </tr>\n",
       "    <tr>\n",
       "      <th>2</th>\n",
       "      <td>2400</td>\n",
       "      <td>2400</td>\n",
       "      <td>2400.0</td>\n",
       "      <td>36 months</td>\n",
       "      <td>15.96%</td>\n",
       "      <td>84.33</td>\n",
       "      <td>C</td>\n",
       "      <td>C5</td>\n",
       "      <td>NaN</td>\n",
       "      <td>10+ years</td>\n",
       "      <td>...</td>\n",
       "      <td>Fully Paid</td>\n",
       "      <td>small_business</td>\n",
       "      <td>real estate business</td>\n",
       "      <td>606xx</td>\n",
       "      <td>IL</td>\n",
       "      <td>8.72</td>\n",
       "      <td>Nov-01</td>\n",
       "      <td>2956</td>\n",
       "      <td>2400.00</td>\n",
       "      <td>0.0</td>\n",
       "    </tr>\n",
       "    <tr>\n",
       "      <th>3</th>\n",
       "      <td>10000</td>\n",
       "      <td>10000</td>\n",
       "      <td>10000.0</td>\n",
       "      <td>36 months</td>\n",
       "      <td>13.49%</td>\n",
       "      <td>339.31</td>\n",
       "      <td>C</td>\n",
       "      <td>C1</td>\n",
       "      <td>AIR RESOURCES BOARD</td>\n",
       "      <td>10+ years</td>\n",
       "      <td>...</td>\n",
       "      <td>Fully Paid</td>\n",
       "      <td>other</td>\n",
       "      <td>personel</td>\n",
       "      <td>917xx</td>\n",
       "      <td>CA</td>\n",
       "      <td>20.00</td>\n",
       "      <td>Feb-96</td>\n",
       "      <td>5598</td>\n",
       "      <td>10000.00</td>\n",
       "      <td>0.0</td>\n",
       "    </tr>\n",
       "    <tr>\n",
       "      <th>4</th>\n",
       "      <td>3000</td>\n",
       "      <td>3000</td>\n",
       "      <td>3000.0</td>\n",
       "      <td>60 months</td>\n",
       "      <td>12.69%</td>\n",
       "      <td>67.79</td>\n",
       "      <td>B</td>\n",
       "      <td>B5</td>\n",
       "      <td>University Medical Group</td>\n",
       "      <td>1 year</td>\n",
       "      <td>...</td>\n",
       "      <td>Current</td>\n",
       "      <td>other</td>\n",
       "      <td>Personal</td>\n",
       "      <td>972xx</td>\n",
       "      <td>OR</td>\n",
       "      <td>17.94</td>\n",
       "      <td>Jan-96</td>\n",
       "      <td>27783</td>\n",
       "      <td>2475.94</td>\n",
       "      <td>0.0</td>\n",
       "    </tr>\n",
       "  </tbody>\n",
       "</table>\n",
       "<p>5 rows × 24 columns</p>\n",
       "</div>"
      ],
      "text/plain": [
       "   loan_amnt  funded_amnt  funded_amnt_inv        term int_rate  installment  \\\n",
       "0       5000         5000           4975.0   36 months   10.65%       162.87   \n",
       "1       2500         2500           2500.0   60 months   15.27%        59.83   \n",
       "2       2400         2400           2400.0   36 months   15.96%        84.33   \n",
       "3      10000        10000          10000.0   36 months   13.49%       339.31   \n",
       "4       3000         3000           3000.0   60 months   12.69%        67.79   \n",
       "\n",
       "  grade sub_grade                 emp_title emp_length  ...  loan_status  \\\n",
       "0     B        B2                       NaN  10+ years  ...   Fully Paid   \n",
       "1     C        C4                     Ryder   < 1 year  ...  Charged Off   \n",
       "2     C        C5                       NaN  10+ years  ...   Fully Paid   \n",
       "3     C        C1       AIR RESOURCES BOARD  10+ years  ...   Fully Paid   \n",
       "4     B        B5  University Medical Group     1 year  ...      Current   \n",
       "\n",
       "          purpose                 title zip_code addr_state    dti  \\\n",
       "0     credit_card              Computer    860xx         AZ  27.65   \n",
       "1             car                  bike    309xx         GA   1.00   \n",
       "2  small_business  real estate business    606xx         IL   8.72   \n",
       "3           other              personel    917xx         CA  20.00   \n",
       "4           other              Personal    972xx         OR  17.94   \n",
       "\n",
       "  earliest_cr_line revol_bal total_rec_prncp  pub_rec_bankruptcies  \n",
       "0           Jan-85     13648         5000.00                   0.0  \n",
       "1           Apr-99      1687          456.46                   0.0  \n",
       "2           Nov-01      2956         2400.00                   0.0  \n",
       "3           Feb-96      5598        10000.00                   0.0  \n",
       "4           Jan-96     27783         2475.94                   0.0  \n",
       "\n",
       "[5 rows x 24 columns]"
      ]
     },
     "execution_count": 438,
     "metadata": {},
     "output_type": "execute_result"
    }
   ],
   "source": [
    "cleaned_df.head()"
   ]
  },
  {
   "cell_type": "code",
   "execution_count": 439,
   "metadata": {},
   "outputs": [
    {
     "data": {
      "text/html": [
       "<div>\n",
       "<style scoped>\n",
       "    .dataframe tbody tr th:only-of-type {\n",
       "        vertical-align: middle;\n",
       "    }\n",
       "\n",
       "    .dataframe tbody tr th {\n",
       "        vertical-align: top;\n",
       "    }\n",
       "\n",
       "    .dataframe thead th {\n",
       "        text-align: right;\n",
       "    }\n",
       "</style>\n",
       "<table border=\"1\" class=\"dataframe\">\n",
       "  <thead>\n",
       "    <tr style=\"text-align: right;\">\n",
       "      <th></th>\n",
       "      <th>Total</th>\n",
       "      <th>Percent</th>\n",
       "    </tr>\n",
       "  </thead>\n",
       "  <tbody>\n",
       "    <tr>\n",
       "      <th>emp_title</th>\n",
       "      <td>2459</td>\n",
       "      <td>0.061913</td>\n",
       "    </tr>\n",
       "    <tr>\n",
       "      <th>emp_length</th>\n",
       "      <td>1075</td>\n",
       "      <td>0.027066</td>\n",
       "    </tr>\n",
       "    <tr>\n",
       "      <th>pub_rec_bankruptcies</th>\n",
       "      <td>697</td>\n",
       "      <td>0.017549</td>\n",
       "    </tr>\n",
       "    <tr>\n",
       "      <th>title</th>\n",
       "      <td>11</td>\n",
       "      <td>0.000277</td>\n",
       "    </tr>\n",
       "    <tr>\n",
       "      <th>issue_d</th>\n",
       "      <td>0</td>\n",
       "      <td>0.000000</td>\n",
       "    </tr>\n",
       "    <tr>\n",
       "      <th>total_rec_prncp</th>\n",
       "      <td>0</td>\n",
       "      <td>0.000000</td>\n",
       "    </tr>\n",
       "    <tr>\n",
       "      <th>revol_bal</th>\n",
       "      <td>0</td>\n",
       "      <td>0.000000</td>\n",
       "    </tr>\n",
       "    <tr>\n",
       "      <th>earliest_cr_line</th>\n",
       "      <td>0</td>\n",
       "      <td>0.000000</td>\n",
       "    </tr>\n",
       "    <tr>\n",
       "      <th>dti</th>\n",
       "      <td>0</td>\n",
       "      <td>0.000000</td>\n",
       "    </tr>\n",
       "    <tr>\n",
       "      <th>addr_state</th>\n",
       "      <td>0</td>\n",
       "      <td>0.000000</td>\n",
       "    </tr>\n",
       "    <tr>\n",
       "      <th>zip_code</th>\n",
       "      <td>0</td>\n",
       "      <td>0.000000</td>\n",
       "    </tr>\n",
       "    <tr>\n",
       "      <th>purpose</th>\n",
       "      <td>0</td>\n",
       "      <td>0.000000</td>\n",
       "    </tr>\n",
       "    <tr>\n",
       "      <th>loan_status</th>\n",
       "      <td>0</td>\n",
       "      <td>0.000000</td>\n",
       "    </tr>\n",
       "    <tr>\n",
       "      <th>loan_amnt</th>\n",
       "      <td>0</td>\n",
       "      <td>0.000000</td>\n",
       "    </tr>\n",
       "    <tr>\n",
       "      <th>funded_amnt</th>\n",
       "      <td>0</td>\n",
       "      <td>0.000000</td>\n",
       "    </tr>\n",
       "    <tr>\n",
       "      <th>annual_inc</th>\n",
       "      <td>0</td>\n",
       "      <td>0.000000</td>\n",
       "    </tr>\n",
       "    <tr>\n",
       "      <th>home_ownership</th>\n",
       "      <td>0</td>\n",
       "      <td>0.000000</td>\n",
       "    </tr>\n",
       "    <tr>\n",
       "      <th>sub_grade</th>\n",
       "      <td>0</td>\n",
       "      <td>0.000000</td>\n",
       "    </tr>\n",
       "    <tr>\n",
       "      <th>grade</th>\n",
       "      <td>0</td>\n",
       "      <td>0.000000</td>\n",
       "    </tr>\n",
       "    <tr>\n",
       "      <th>installment</th>\n",
       "      <td>0</td>\n",
       "      <td>0.000000</td>\n",
       "    </tr>\n",
       "  </tbody>\n",
       "</table>\n",
       "</div>"
      ],
      "text/plain": [
       "                      Total   Percent\n",
       "emp_title              2459  0.061913\n",
       "emp_length             1075  0.027066\n",
       "pub_rec_bankruptcies    697  0.017549\n",
       "title                    11  0.000277\n",
       "issue_d                   0  0.000000\n",
       "total_rec_prncp           0  0.000000\n",
       "revol_bal                 0  0.000000\n",
       "earliest_cr_line          0  0.000000\n",
       "dti                       0  0.000000\n",
       "addr_state                0  0.000000\n",
       "zip_code                  0  0.000000\n",
       "purpose                   0  0.000000\n",
       "loan_status               0  0.000000\n",
       "loan_amnt                 0  0.000000\n",
       "funded_amnt               0  0.000000\n",
       "annual_inc                0  0.000000\n",
       "home_ownership            0  0.000000\n",
       "sub_grade                 0  0.000000\n",
       "grade                     0  0.000000\n",
       "installment               0  0.000000"
      ]
     },
     "execution_count": 439,
     "metadata": {},
     "output_type": "execute_result"
    }
   ],
   "source": [
    "total = cleaned_df.isnull().sum().sort_values(ascending=False)\n",
    "percent = (cleaned_df.isnull().sum()/cleaned_df.isnull().count()).sort_values(ascending=False)\n",
    "missing_data = pd.concat([total, percent], axis=1, keys=['Total', 'Percent'])\n",
    "missing_data.head(20)\n"
   ]
  },
  {
   "cell_type": "code",
   "execution_count": 440,
   "metadata": {},
   "outputs": [
    {
     "data": {
      "text/plain": [
       "10+ years    8879\n",
       "< 1 year     4583\n",
       "2 years      4388\n",
       "3 years      4095\n",
       "4 years      3436\n",
       "5 years      3282\n",
       "1 year       3240\n",
       "6 years      2229\n",
       "7 years      1773\n",
       "8 years      1479\n",
       "9 years      1258\n",
       "Name: emp_length, dtype: int64"
      ]
     },
     "execution_count": 440,
     "metadata": {},
     "output_type": "execute_result"
    }
   ],
   "source": [
    "cleaned_df.emp_length.value_counts()"
   ]
  },
  {
   "cell_type": "code",
   "execution_count": 441,
   "metadata": {},
   "outputs": [
    {
     "data": {
      "text/plain": [
       "0.0    37339\n",
       "1.0     1674\n",
       "2.0        7\n",
       "Name: pub_rec_bankruptcies, dtype: int64"
      ]
     },
     "execution_count": 441,
     "metadata": {},
     "output_type": "execute_result"
    }
   ],
   "source": [
    "cleaned_df.pub_rec_bankruptcies.value_counts()"
   ]
  },
  {
   "cell_type": "code",
   "execution_count": 442,
   "metadata": {},
   "outputs": [
    {
     "data": {
      "text/plain": [
       "Debt Consolidation                  2184\n",
       "Debt Consolidation Loan             1729\n",
       "Personal Loan                        659\n",
       "Consolidation                        517\n",
       "debt consolidation                   505\n",
       "                                    ... \n",
       "your rate is better than my rate       1\n",
       "Concession Trailer                     1\n",
       "gregs                                  1\n",
       "EZover                                 1\n",
       "JAL Loan                               1\n",
       "Name: title, Length: 19615, dtype: int64"
      ]
     },
     "execution_count": 442,
     "metadata": {},
     "output_type": "execute_result"
    }
   ],
   "source": [
    "cleaned_df.title.value_counts()"
   ]
  },
  {
   "cell_type": "code",
   "execution_count": 443,
   "metadata": {},
   "outputs": [
    {
     "data": {
      "text/plain": [
       "loan_amnt                  0\n",
       "funded_amnt                0\n",
       "funded_amnt_inv            0\n",
       "term                       0\n",
       "int_rate                   0\n",
       "installment                0\n",
       "grade                      0\n",
       "sub_grade                  0\n",
       "emp_title               2459\n",
       "emp_length              1075\n",
       "home_ownership             0\n",
       "annual_inc                 0\n",
       "verification_status        0\n",
       "issue_d                    0\n",
       "loan_status                0\n",
       "purpose                    0\n",
       "title                     11\n",
       "zip_code                   0\n",
       "addr_state                 0\n",
       "dti                        0\n",
       "earliest_cr_line           0\n",
       "revol_bal                  0\n",
       "total_rec_prncp            0\n",
       "pub_rec_bankruptcies     697\n",
       "dtype: int64"
      ]
     },
     "execution_count": 443,
     "metadata": {},
     "output_type": "execute_result"
    }
   ],
   "source": [
    "cleaned_df.isnull().sum()"
   ]
  },
  {
   "cell_type": "markdown",
   "metadata": {},
   "source": [
    "We are assuming that the missing emp_title data is self-employed persons\n",
    "\n",
    "we can fill the missing tilte as None\n",
    "\n",
    "we can fill the emp_length with the median value\n",
    "\n",
    "we can fill the pub_rec_bankruptcies with median value\n"
   ]
  },
  {
   "cell_type": "code",
   "execution_count": 444,
   "metadata": {},
   "outputs": [],
   "source": [
    "cleaned_df.emp_length.fillna(\"None\",inplace=True)\n",
    "cleaned_df.emp_title.fillna(\"self-employed\",inplace=True)\n",
    "cleaned_df.pub_rec_bankruptcies.fillna(0.0,inplace=True)\n",
    "cleaned_df.title.fillna(\"None\",inplace=True)"
   ]
  },
  {
   "cell_type": "code",
   "execution_count": 445,
   "metadata": {},
   "outputs": [],
   "source": [
    "cleaned_df.isnull().sum()\n",
    "cleaned_loan_df=cleaned_df.copy()"
   ]
  },
  {
   "cell_type": "code",
   "execution_count": 446,
   "metadata": {},
   "outputs": [
    {
     "data": {
      "text/plain": [
       "<AxesSubplot:>"
      ]
     },
     "execution_count": 446,
     "metadata": {},
     "output_type": "execute_result"
    },
    {
     "data": {
      "image/png": "[encoded data removed]",
      "text/plain": [
       "<Figure size 1080x576 with 2 Axes>"
      ]
     },
     "metadata": {},
     "output_type": "display_data"
    }
   ],
   "source": [
    "sns.set(rc = {'figure.figsize':(15,8)})\n",
    "sns.heatmap(cleaned_df.corr(),annot=True)\n"
   ]
  },
  {
   "cell_type": "code",
   "execution_count": 447,
   "metadata": {},
   "outputs": [
    {
     "data": {
      "text/plain": [
       "Fully Paid     32950\n",
       "Charged Off     5627\n",
       "Name: loan_status, dtype: int64"
      ]
     },
     "execution_count": 447,
     "metadata": {},
     "output_type": "execute_result"
    }
   ],
   "source": [
    "\n",
    "cleaned_loan_df=cleaned_loan_df[~(cleaned_loan_df[\"loan_status\"]==\"Current\")]\n",
    "\n",
    "cleaned_loan_df.loan_status.value_counts()"
   ]
  },
  {
   "cell_type": "markdown",
   "metadata": {},
   "source": [
    "# Data Analysis\n"
   ]
  },
  {
   "cell_type": "markdown",
   "metadata": {},
   "source": [
    "## Univariate Analysis and segmented Univariate"
   ]
  },
  {
   "cell_type": "markdown",
   "metadata": {},
   "source": [
    "Taking into account the target variable\n"
   ]
  },
  {
   "cell_type": "code",
   "execution_count": 448,
   "metadata": {},
   "outputs": [
    {
     "data": {
      "text/plain": [
       "<AxesSubplot:xlabel='loan_status', ylabel='count'>"
      ]
     },
     "execution_count": 448,
     "metadata": {},
     "output_type": "execute_result"
    },
    {
     "data": {
      "image/png": "[encoded data removed]",
      "text/plain": [
       "<Figure size 1080x576 with 1 Axes>"
      ]
     },
     "metadata": {},
     "output_type": "display_data"
    }
   ],
   "source": [
    "#BarPlot against the count of the target variable\n",
    "#loan_amnt,int_rate,term,grade,sub_grade,annual_income,purpose,DTI,emp_length,loan_date(mon),home_ownership,verification_stat\n",
    "\n",
    "sns.countplot(data=cleaned_loan_df, x=\"loan_status\")\n"
   ]
  },
  {
   "cell_type": "code",
   "execution_count": 449,
   "metadata": {},
   "outputs": [],
   "source": [
    "#converting the loan_status to boolean vars for better analysis\n",
    "cleaned_loan_df[\"loan_status\"]=cleaned_loan_df[\"loan_status\"].apply(lambda x: 0 if x==\"Fully Paid\" else 1)"
   ]
  },
  {
   "cell_type": "markdown",
   "metadata": {},
   "source": [
    "### We notice that the charged off value for the loans is approximately about 14% of the total data.\n"
   ]
  },
  {
   "cell_type": "code",
   "execution_count": 450,
   "metadata": {},
   "outputs": [
    {
     "data": {
      "text/plain": [
       "<AxesSubplot:xlabel='loan_amnt', ylabel='Count'>"
      ]
     },
     "execution_count": 450,
     "metadata": {},
     "output_type": "execute_result"
    },
    {
     "data": {
      "image/png": "[encoded data removed]",
      "text/plain": [
       "<Figure size 1080x576 with 1 Axes>"
      ]
     },
     "metadata": {},
     "output_type": "display_data"
    }
   ],
   "source": [
    "sns.histplot(data=cleaned_loan_df,x=\"loan_amnt\",kde=True)"
   ]
  },
  {
   "cell_type": "code",
   "execution_count": 451,
   "metadata": {},
   "outputs": [
    {
     "data": {
      "text/plain": [
       "count    38577.000000\n",
       "mean     11047.025430\n",
       "std       7348.441646\n",
       "min        500.000000\n",
       "25%       5300.000000\n",
       "50%       9600.000000\n",
       "75%      15000.000000\n",
       "max      35000.000000\n",
       "Name: loan_amnt, dtype: float64"
      ]
     },
     "execution_count": 451,
     "metadata": {},
     "output_type": "execute_result"
    }
   ],
   "source": [
    "cleaned_loan_df.loan_amnt.describe()"
   ]
  },
  {
   "cell_type": "markdown",
   "metadata": {},
   "source": [
    "upper bound of the loan amount is 29.55k"
   ]
  },
  {
   "cell_type": "code",
   "execution_count": 452,
   "metadata": {},
   "outputs": [
    {
     "data": {
      "text/plain": [
       "loan_amnt               0\n",
       "funded_amnt             0\n",
       "funded_amnt_inv         0\n",
       "term                    0\n",
       "int_rate                0\n",
       "installment             0\n",
       "grade                   0\n",
       "sub_grade               0\n",
       "emp_title               0\n",
       "emp_length              0\n",
       "home_ownership          0\n",
       "annual_inc              0\n",
       "verification_status     0\n",
       "issue_d                 0\n",
       "loan_status             0\n",
       "purpose                 0\n",
       "title                   0\n",
       "zip_code                0\n",
       "addr_state              0\n",
       "dti                     0\n",
       "earliest_cr_line        0\n",
       "revol_bal               0\n",
       "total_rec_prncp         0\n",
       "pub_rec_bankruptcies    0\n",
       "dtype: int64"
      ]
     },
     "execution_count": 452,
     "metadata": {},
     "output_type": "execute_result"
    }
   ],
   "source": [
    "cleaned_loan_df.isnull().sum()"
   ]
  },
  {
   "cell_type": "code",
   "execution_count": 453,
   "metadata": {},
   "outputs": [
    {
     "data": {
      "text/plain": [
       "0     Dec-11\n",
       "1     Dec-11\n",
       "2     Dec-11\n",
       "3     Dec-11\n",
       "5     Dec-11\n",
       "6     Dec-11\n",
       "7     Dec-11\n",
       "8     Dec-11\n",
       "9     Dec-11\n",
       "10    Dec-11\n",
       "11    Dec-11\n",
       "12    Dec-11\n",
       "13    Dec-11\n",
       "14    Dec-11\n",
       "15    Dec-11\n",
       "16    Dec-11\n",
       "17    Dec-11\n",
       "18    Dec-11\n",
       "19    Dec-11\n",
       "20    Dec-11\n",
       "Name: issue_d, dtype: object"
      ]
     },
     "execution_count": 453,
     "metadata": {},
     "output_type": "execute_result"
    }
   ],
   "source": [
    "cleaned_loan_df.issue_d.head(20)"
   ]
  },
  {
   "cell_type": "markdown",
   "metadata": {},
   "source": [
    "Creating derived categorical columns against the DTI column,issue date of loan, loan amount, \n"
   ]
  },
  {
   "cell_type": "code",
   "execution_count": 454,
   "metadata": {},
   "outputs": [],
   "source": [
    "cleaned_loan_df[\"issue_month\"]=cleaned_loan_df[\"issue_d\"].apply(lambda x: x.split(\"-\")[0])"
   ]
  },
  {
   "cell_type": "code",
   "execution_count": 455,
   "metadata": {
    "scrolled": true
   },
   "outputs": [
    {
     "data": {
      "text/html": [
       "<div>\n",
       "<style scoped>\n",
       "    .dataframe tbody tr th:only-of-type {\n",
       "        vertical-align: middle;\n",
       "    }\n",
       "\n",
       "    .dataframe tbody tr th {\n",
       "        vertical-align: top;\n",
       "    }\n",
       "\n",
       "    .dataframe thead th {\n",
       "        text-align: right;\n",
       "    }\n",
       "</style>\n",
       "<table border=\"1\" class=\"dataframe\">\n",
       "  <thead>\n",
       "    <tr style=\"text-align: right;\">\n",
       "      <th></th>\n",
       "      <th>loan_amnt</th>\n",
       "      <th>funded_amnt</th>\n",
       "      <th>funded_amnt_inv</th>\n",
       "      <th>term</th>\n",
       "      <th>int_rate</th>\n",
       "      <th>installment</th>\n",
       "      <th>grade</th>\n",
       "      <th>sub_grade</th>\n",
       "      <th>emp_title</th>\n",
       "      <th>emp_length</th>\n",
       "      <th>...</th>\n",
       "      <th>purpose</th>\n",
       "      <th>title</th>\n",
       "      <th>zip_code</th>\n",
       "      <th>addr_state</th>\n",
       "      <th>dti</th>\n",
       "      <th>earliest_cr_line</th>\n",
       "      <th>revol_bal</th>\n",
       "      <th>total_rec_prncp</th>\n",
       "      <th>pub_rec_bankruptcies</th>\n",
       "      <th>issue_month</th>\n",
       "    </tr>\n",
       "  </thead>\n",
       "  <tbody>\n",
       "    <tr>\n",
       "      <th>0</th>\n",
       "      <td>5000</td>\n",
       "      <td>5000</td>\n",
       "      <td>4975.0</td>\n",
       "      <td>36 months</td>\n",
       "      <td>10.65%</td>\n",
       "      <td>162.87</td>\n",
       "      <td>B</td>\n",
       "      <td>B2</td>\n",
       "      <td>self-employed</td>\n",
       "      <td>10+ years</td>\n",
       "      <td>...</td>\n",
       "      <td>credit_card</td>\n",
       "      <td>Computer</td>\n",
       "      <td>860xx</td>\n",
       "      <td>AZ</td>\n",
       "      <td>27.65</td>\n",
       "      <td>Jan-85</td>\n",
       "      <td>13648</td>\n",
       "      <td>5000.00</td>\n",
       "      <td>0.0</td>\n",
       "      <td>Dec</td>\n",
       "    </tr>\n",
       "    <tr>\n",
       "      <th>1</th>\n",
       "      <td>2500</td>\n",
       "      <td>2500</td>\n",
       "      <td>2500.0</td>\n",
       "      <td>60 months</td>\n",
       "      <td>15.27%</td>\n",
       "      <td>59.83</td>\n",
       "      <td>C</td>\n",
       "      <td>C4</td>\n",
       "      <td>Ryder</td>\n",
       "      <td>&lt; 1 year</td>\n",
       "      <td>...</td>\n",
       "      <td>car</td>\n",
       "      <td>bike</td>\n",
       "      <td>309xx</td>\n",
       "      <td>GA</td>\n",
       "      <td>1.00</td>\n",
       "      <td>Apr-99</td>\n",
       "      <td>1687</td>\n",
       "      <td>456.46</td>\n",
       "      <td>0.0</td>\n",
       "      <td>Dec</td>\n",
       "    </tr>\n",
       "    <tr>\n",
       "      <th>2</th>\n",
       "      <td>2400</td>\n",
       "      <td>2400</td>\n",
       "      <td>2400.0</td>\n",
       "      <td>36 months</td>\n",
       "      <td>15.96%</td>\n",
       "      <td>84.33</td>\n",
       "      <td>C</td>\n",
       "      <td>C5</td>\n",
       "      <td>self-employed</td>\n",
       "      <td>10+ years</td>\n",
       "      <td>...</td>\n",
       "      <td>small_business</td>\n",
       "      <td>real estate business</td>\n",
       "      <td>606xx</td>\n",
       "      <td>IL</td>\n",
       "      <td>8.72</td>\n",
       "      <td>Nov-01</td>\n",
       "      <td>2956</td>\n",
       "      <td>2400.00</td>\n",
       "      <td>0.0</td>\n",
       "      <td>Dec</td>\n",
       "    </tr>\n",
       "    <tr>\n",
       "      <th>3</th>\n",
       "      <td>10000</td>\n",
       "      <td>10000</td>\n",
       "      <td>10000.0</td>\n",
       "      <td>36 months</td>\n",
       "      <td>13.49%</td>\n",
       "      <td>339.31</td>\n",
       "      <td>C</td>\n",
       "      <td>C1</td>\n",
       "      <td>AIR RESOURCES BOARD</td>\n",
       "      <td>10+ years</td>\n",
       "      <td>...</td>\n",
       "      <td>other</td>\n",
       "      <td>personel</td>\n",
       "      <td>917xx</td>\n",
       "      <td>CA</td>\n",
       "      <td>20.00</td>\n",
       "      <td>Feb-96</td>\n",
       "      <td>5598</td>\n",
       "      <td>10000.00</td>\n",
       "      <td>0.0</td>\n",
       "      <td>Dec</td>\n",
       "    </tr>\n",
       "    <tr>\n",
       "      <th>5</th>\n",
       "      <td>5000</td>\n",
       "      <td>5000</td>\n",
       "      <td>5000.0</td>\n",
       "      <td>36 months</td>\n",
       "      <td>7.90%</td>\n",
       "      <td>156.46</td>\n",
       "      <td>A</td>\n",
       "      <td>A4</td>\n",
       "      <td>Veolia Transportaton</td>\n",
       "      <td>3 years</td>\n",
       "      <td>...</td>\n",
       "      <td>wedding</td>\n",
       "      <td>My wedding loan I promise to pay back</td>\n",
       "      <td>852xx</td>\n",
       "      <td>AZ</td>\n",
       "      <td>11.20</td>\n",
       "      <td>Nov-04</td>\n",
       "      <td>7963</td>\n",
       "      <td>5000.00</td>\n",
       "      <td>0.0</td>\n",
       "      <td>Dec</td>\n",
       "    </tr>\n",
       "  </tbody>\n",
       "</table>\n",
       "<p>5 rows × 25 columns</p>\n",
       "</div>"
      ],
      "text/plain": [
       "   loan_amnt  funded_amnt  funded_amnt_inv        term int_rate  installment  \\\n",
       "0       5000         5000           4975.0   36 months   10.65%       162.87   \n",
       "1       2500         2500           2500.0   60 months   15.27%        59.83   \n",
       "2       2400         2400           2400.0   36 months   15.96%        84.33   \n",
       "3      10000        10000          10000.0   36 months   13.49%       339.31   \n",
       "5       5000         5000           5000.0   36 months    7.90%       156.46   \n",
       "\n",
       "  grade sub_grade             emp_title emp_length  ...         purpose  \\\n",
       "0     B        B2         self-employed  10+ years  ...     credit_card   \n",
       "1     C        C4                 Ryder   < 1 year  ...             car   \n",
       "2     C        C5         self-employed  10+ years  ...  small_business   \n",
       "3     C        C1   AIR RESOURCES BOARD  10+ years  ...           other   \n",
       "5     A        A4  Veolia Transportaton    3 years  ...         wedding   \n",
       "\n",
       "                                   title zip_code addr_state    dti  \\\n",
       "0                               Computer    860xx         AZ  27.65   \n",
       "1                                   bike    309xx         GA   1.00   \n",
       "2                   real estate business    606xx         IL   8.72   \n",
       "3                               personel    917xx         CA  20.00   \n",
       "5  My wedding loan I promise to pay back    852xx         AZ  11.20   \n",
       "\n",
       "  earliest_cr_line revol_bal total_rec_prncp pub_rec_bankruptcies  issue_month  \n",
       "0           Jan-85     13648         5000.00                  0.0          Dec  \n",
       "1           Apr-99      1687          456.46                  0.0          Dec  \n",
       "2           Nov-01      2956         2400.00                  0.0          Dec  \n",
       "3           Feb-96      5598        10000.00                  0.0          Dec  \n",
       "5           Nov-04      7963         5000.00                  0.0          Dec  \n",
       "\n",
       "[5 rows x 25 columns]"
      ]
     },
     "execution_count": 455,
     "metadata": {},
     "output_type": "execute_result"
    }
   ],
   "source": [
    "cleaned_loan_df.head()"
   ]
  },
  {
   "cell_type": "markdown",
   "metadata": {},
   "source": [
    "For some of the continuous variables like loan_amnt, int_rate, dti, annual_income, we will create categorical variables for our analysis according to bins with respect to quartile ranges\n"
   ]
  },
  {
   "cell_type": "code",
   "execution_count": 456,
   "metadata": {},
   "outputs": [],
   "source": [
    "#transform int_rate column\n",
    "cleaned_loan_df.int_rate.describe()\n",
    "cleaned_loan_df.int_rate=cleaned_loan_df.int_rate.apply(lambda x : float(x.strip(\"%\")))"
   ]
  },
  {
   "cell_type": "code",
   "execution_count": 457,
   "metadata": {},
   "outputs": [
    {
     "data": {
      "text/plain": [
       "count    38577.000000\n",
       "mean        11.932219\n",
       "std          3.691327\n",
       "min          5.420000\n",
       "25%          8.940000\n",
       "50%         11.710000\n",
       "75%         14.380000\n",
       "max         24.400000\n",
       "Name: int_rate, dtype: float64"
      ]
     },
     "execution_count": 457,
     "metadata": {},
     "output_type": "execute_result"
    }
   ],
   "source": [
    "cleaned_loan_df.int_rate.describe()"
   ]
  },
  {
   "cell_type": "markdown",
   "metadata": {},
   "source": [
    "Creating box plot to identify outliers"
   ]
  },
  {
   "cell_type": "code",
   "execution_count": 458,
   "metadata": {},
   "outputs": [
    {
     "data": {
      "text/plain": [
       "<AxesSubplot:xlabel='int_rate'>"
      ]
     },
     "execution_count": 458,
     "metadata": {},
     "output_type": "execute_result"
    },
    {
     "data": {
      "image/png": "[encoded data removed]",
      "text/plain": [
       "<Figure size 1080x576 with 1 Axes>"
      ]
     },
     "metadata": {},
     "output_type": "display_data"
    }
   ],
   "source": [
    "sns.boxplot(data=cleaned_loan_df,x=\"int_rate\")"
   ]
  },
  {
   "cell_type": "markdown",
   "metadata": {},
   "source": [
    "We observe that the upperbound for the int_rate column is around 21.5"
   ]
  },
  {
   "cell_type": "code",
   "execution_count": 459,
   "metadata": {},
   "outputs": [],
   "source": [
    "#creating bin out of the int_rate\n",
    "#removing outliers\n",
    "cleaned_loan_df=cleaned_loan_df[cleaned_loan_df[\"int_rate\"]<=21.5]\n",
    "cleaned_loan_df[\"int_rate_cat\"]=pd.qcut(cleaned_loan_df.int_rate,q=5,labels=[\"low\",\"medium-low\",\"medium\",\"medium-high\",\"high\"])"
   ]
  },
  {
   "cell_type": "code",
   "execution_count": 460,
   "metadata": {},
   "outputs": [
    {
     "data": {
      "text/html": [
       "<div>\n",
       "<style scoped>\n",
       "    .dataframe tbody tr th:only-of-type {\n",
       "        vertical-align: middle;\n",
       "    }\n",
       "\n",
       "    .dataframe tbody tr th {\n",
       "        vertical-align: top;\n",
       "    }\n",
       "\n",
       "    .dataframe thead th {\n",
       "        text-align: right;\n",
       "    }\n",
       "</style>\n",
       "<table border=\"1\" class=\"dataframe\">\n",
       "  <thead>\n",
       "    <tr style=\"text-align: right;\">\n",
       "      <th></th>\n",
       "      <th>loan_amnt</th>\n",
       "      <th>funded_amnt</th>\n",
       "      <th>funded_amnt_inv</th>\n",
       "      <th>term</th>\n",
       "      <th>int_rate</th>\n",
       "      <th>installment</th>\n",
       "      <th>grade</th>\n",
       "      <th>sub_grade</th>\n",
       "      <th>emp_title</th>\n",
       "      <th>emp_length</th>\n",
       "      <th>...</th>\n",
       "      <th>title</th>\n",
       "      <th>zip_code</th>\n",
       "      <th>addr_state</th>\n",
       "      <th>dti</th>\n",
       "      <th>earliest_cr_line</th>\n",
       "      <th>revol_bal</th>\n",
       "      <th>total_rec_prncp</th>\n",
       "      <th>pub_rec_bankruptcies</th>\n",
       "      <th>issue_month</th>\n",
       "      <th>int_rate_cat</th>\n",
       "    </tr>\n",
       "  </thead>\n",
       "  <tbody>\n",
       "    <tr>\n",
       "      <th>0</th>\n",
       "      <td>5000</td>\n",
       "      <td>5000</td>\n",
       "      <td>4975.0</td>\n",
       "      <td>36 months</td>\n",
       "      <td>10.65</td>\n",
       "      <td>162.87</td>\n",
       "      <td>B</td>\n",
       "      <td>B2</td>\n",
       "      <td>self-employed</td>\n",
       "      <td>10+ years</td>\n",
       "      <td>...</td>\n",
       "      <td>Computer</td>\n",
       "      <td>860xx</td>\n",
       "      <td>AZ</td>\n",
       "      <td>27.65</td>\n",
       "      <td>Jan-85</td>\n",
       "      <td>13648</td>\n",
       "      <td>5000.00</td>\n",
       "      <td>0.0</td>\n",
       "      <td>Dec</td>\n",
       "      <td>medium-low</td>\n",
       "    </tr>\n",
       "    <tr>\n",
       "      <th>1</th>\n",
       "      <td>2500</td>\n",
       "      <td>2500</td>\n",
       "      <td>2500.0</td>\n",
       "      <td>60 months</td>\n",
       "      <td>15.27</td>\n",
       "      <td>59.83</td>\n",
       "      <td>C</td>\n",
       "      <td>C4</td>\n",
       "      <td>Ryder</td>\n",
       "      <td>&lt; 1 year</td>\n",
       "      <td>...</td>\n",
       "      <td>bike</td>\n",
       "      <td>309xx</td>\n",
       "      <td>GA</td>\n",
       "      <td>1.00</td>\n",
       "      <td>Apr-99</td>\n",
       "      <td>1687</td>\n",
       "      <td>456.46</td>\n",
       "      <td>0.0</td>\n",
       "      <td>Dec</td>\n",
       "      <td>high</td>\n",
       "    </tr>\n",
       "    <tr>\n",
       "      <th>2</th>\n",
       "      <td>2400</td>\n",
       "      <td>2400</td>\n",
       "      <td>2400.0</td>\n",
       "      <td>36 months</td>\n",
       "      <td>15.96</td>\n",
       "      <td>84.33</td>\n",
       "      <td>C</td>\n",
       "      <td>C5</td>\n",
       "      <td>self-employed</td>\n",
       "      <td>10+ years</td>\n",
       "      <td>...</td>\n",
       "      <td>real estate business</td>\n",
       "      <td>606xx</td>\n",
       "      <td>IL</td>\n",
       "      <td>8.72</td>\n",
       "      <td>Nov-01</td>\n",
       "      <td>2956</td>\n",
       "      <td>2400.00</td>\n",
       "      <td>0.0</td>\n",
       "      <td>Dec</td>\n",
       "      <td>high</td>\n",
       "    </tr>\n",
       "    <tr>\n",
       "      <th>3</th>\n",
       "      <td>10000</td>\n",
       "      <td>10000</td>\n",
       "      <td>10000.0</td>\n",
       "      <td>36 months</td>\n",
       "      <td>13.49</td>\n",
       "      <td>339.31</td>\n",
       "      <td>C</td>\n",
       "      <td>C1</td>\n",
       "      <td>AIR RESOURCES BOARD</td>\n",
       "      <td>10+ years</td>\n",
       "      <td>...</td>\n",
       "      <td>personel</td>\n",
       "      <td>917xx</td>\n",
       "      <td>CA</td>\n",
       "      <td>20.00</td>\n",
       "      <td>Feb-96</td>\n",
       "      <td>5598</td>\n",
       "      <td>10000.00</td>\n",
       "      <td>0.0</td>\n",
       "      <td>Dec</td>\n",
       "      <td>medium-high</td>\n",
       "    </tr>\n",
       "    <tr>\n",
       "      <th>5</th>\n",
       "      <td>5000</td>\n",
       "      <td>5000</td>\n",
       "      <td>5000.0</td>\n",
       "      <td>36 months</td>\n",
       "      <td>7.90</td>\n",
       "      <td>156.46</td>\n",
       "      <td>A</td>\n",
       "      <td>A4</td>\n",
       "      <td>Veolia Transportaton</td>\n",
       "      <td>3 years</td>\n",
       "      <td>...</td>\n",
       "      <td>My wedding loan I promise to pay back</td>\n",
       "      <td>852xx</td>\n",
       "      <td>AZ</td>\n",
       "      <td>11.20</td>\n",
       "      <td>Nov-04</td>\n",
       "      <td>7963</td>\n",
       "      <td>5000.00</td>\n",
       "      <td>0.0</td>\n",
       "      <td>Dec</td>\n",
       "      <td>low</td>\n",
       "    </tr>\n",
       "  </tbody>\n",
       "</table>\n",
       "<p>5 rows × 26 columns</p>\n",
       "</div>"
      ],
      "text/plain": [
       "   loan_amnt  funded_amnt  funded_amnt_inv        term  int_rate  installment  \\\n",
       "0       5000         5000           4975.0   36 months     10.65       162.87   \n",
       "1       2500         2500           2500.0   60 months     15.27        59.83   \n",
       "2       2400         2400           2400.0   36 months     15.96        84.33   \n",
       "3      10000        10000          10000.0   36 months     13.49       339.31   \n",
       "5       5000         5000           5000.0   36 months      7.90       156.46   \n",
       "\n",
       "  grade sub_grade             emp_title emp_length  ...  \\\n",
       "0     B        B2         self-employed  10+ years  ...   \n",
       "1     C        C4                 Ryder   < 1 year  ...   \n",
       "2     C        C5         self-employed  10+ years  ...   \n",
       "3     C        C1   AIR RESOURCES BOARD  10+ years  ...   \n",
       "5     A        A4  Veolia Transportaton    3 years  ...   \n",
       "\n",
       "                                   title  zip_code addr_state    dti  \\\n",
       "0                               Computer     860xx         AZ  27.65   \n",
       "1                                   bike     309xx         GA   1.00   \n",
       "2                   real estate business     606xx         IL   8.72   \n",
       "3                               personel     917xx         CA  20.00   \n",
       "5  My wedding loan I promise to pay back     852xx         AZ  11.20   \n",
       "\n",
       "   earliest_cr_line revol_bal total_rec_prncp pub_rec_bankruptcies  \\\n",
       "0            Jan-85     13648         5000.00                  0.0   \n",
       "1            Apr-99      1687          456.46                  0.0   \n",
       "2            Nov-01      2956         2400.00                  0.0   \n",
       "3            Feb-96      5598        10000.00                  0.0   \n",
       "5            Nov-04      7963         5000.00                  0.0   \n",
       "\n",
       "  issue_month  int_rate_cat  \n",
       "0         Dec    medium-low  \n",
       "1         Dec          high  \n",
       "2         Dec          high  \n",
       "3         Dec   medium-high  \n",
       "5         Dec           low  \n",
       "\n",
       "[5 rows x 26 columns]"
      ]
     },
     "execution_count": 460,
     "metadata": {},
     "output_type": "execute_result"
    }
   ],
   "source": [
    "#creating \n",
    "cleaned_loan_df.head()"
   ]
  },
  {
   "cell_type": "code",
   "execution_count": 461,
   "metadata": {},
   "outputs": [
    {
     "data": {
      "text/plain": [
       "count    38341.000000\n",
       "mean        13.266524\n",
       "std          6.676121\n",
       "min          0.000000\n",
       "25%          8.130000\n",
       "50%         13.360000\n",
       "75%         18.550000\n",
       "max         29.990000\n",
       "Name: dti, dtype: float64"
      ]
     },
     "execution_count": 461,
     "metadata": {},
     "output_type": "execute_result"
    }
   ],
   "source": [
    "cleaned_loan_df.dti.describe()"
   ]
  },
  {
   "cell_type": "code",
   "execution_count": 462,
   "metadata": {},
   "outputs": [
    {
     "data": {
      "text/plain": [
       "<AxesSubplot:xlabel='dti'>"
      ]
     },
     "execution_count": 462,
     "metadata": {},
     "output_type": "execute_result"
    },
    {
     "data": {
      "image/png": "[encoded data removed]",
      "text/plain": [
       "<Figure size 1080x576 with 1 Axes>"
      ]
     },
     "metadata": {},
     "output_type": "display_data"
    }
   ],
   "source": [
    "sns.boxplot(data=cleaned_loan_df,x=\"dti\")"
   ]
  },
  {
   "cell_type": "code",
   "execution_count": 463,
   "metadata": {},
   "outputs": [
    {
     "data": {
      "text/plain": [
       "<AxesSubplot:xlabel='dti', ylabel='Count'>"
      ]
     },
     "execution_count": 463,
     "metadata": {},
     "output_type": "execute_result"
    },
    {
     "data": {
      "image/png": "[encoded data removed]",
      "text/plain": [
       "<Figure size 1080x576 with 1 Axes>"
      ]
     },
     "metadata": {},
     "output_type": "display_data"
    }
   ],
   "source": [
    "sns.histplot(data=cleaned_loan_df,x=\"dti\",kde=True)"
   ]
  },
  {
   "cell_type": "markdown",
   "metadata": {},
   "source": [
    "lets classify the dti variable as low, medium and high according to quartile ranges\n"
   ]
  },
  {
   "cell_type": "code",
   "execution_count": 464,
   "metadata": {},
   "outputs": [],
   "source": [
    "cleaned_loan_df[\"dti_cat\"]=pd.qcut(cleaned_loan_df.dti,q=3,labels=[\"low\",\"medium\",\"high\"])"
   ]
  },
  {
   "cell_type": "code",
   "execution_count": 465,
   "metadata": {},
   "outputs": [
    {
     "data": {
      "text/plain": [
       "array([ 0.  ,  9.23, 15.31, 22.29])"
      ]
     },
     "execution_count": 465,
     "metadata": {},
     "output_type": "execute_result"
    }
   ],
   "source": [
    "np.quantile(cleaned_loan_df.dti,[0,.3,.6,.9])"
   ]
  },
  {
   "cell_type": "code",
   "execution_count": 466,
   "metadata": {},
   "outputs": [
    {
     "data": {
      "text/plain": [
       "count    3.834100e+04\n",
       "mean     6.859605e+04\n",
       "std      6.411033e+04\n",
       "min      4.000000e+03\n",
       "25%      4.000000e+04\n",
       "50%      5.834400e+04\n",
       "75%      8.200000e+04\n",
       "max      6.000000e+06\n",
       "Name: annual_inc, dtype: float64"
      ]
     },
     "execution_count": 466,
     "metadata": {},
     "output_type": "execute_result"
    }
   ],
   "source": [
    "cleaned_loan_df.annual_inc.describe()"
   ]
  },
  {
   "cell_type": "code",
   "execution_count": 467,
   "metadata": {},
   "outputs": [
    {
     "data": {
      "text/plain": [
       "<AxesSubplot:xlabel='annual_inc', ylabel='Count'>"
      ]
     },
     "execution_count": 467,
     "metadata": {},
     "output_type": "execute_result"
    },
    {
     "data": {
      "image/png": "[encoded data removed]",
      "text/plain": [
       "<Figure size 1080x576 with 1 Axes>"
      ]
     },
     "metadata": {},
     "output_type": "display_data"
    }
   ],
   "source": [
    "log_normal_annual_inc=np.log(cleaned_df.annual_inc)\n",
    "sns.histplot(log_normal_annual_inc,kde=True)"
   ]
  },
  {
   "cell_type": "markdown",
   "metadata": {},
   "source": [
    "### Creating a log normal distribution from the annual_inc variable for creating better categorical variable\n"
   ]
  },
  {
   "cell_type": "code",
   "execution_count": 468,
   "metadata": {},
   "outputs": [],
   "source": [
    "cleaned_loan_df[\"annual_inc_cat\"]=pd.qcut(log_normal_annual_inc,q=3,labels=[\"high\",\"medium\",\"low\"])"
   ]
  },
  {
   "cell_type": "code",
   "execution_count": 469,
   "metadata": {},
   "outputs": [
    {
     "data": {
      "text/plain": [
       "array([ 8.29404964, 10.71441777, 11.09504964, 11.66134547])"
      ]
     },
     "execution_count": 469,
     "metadata": {},
     "output_type": "execute_result"
    }
   ],
   "source": [
    "np.quantile(log_normal_annual_inc,[0,.3,.6,.9])"
   ]
  },
  {
   "cell_type": "code",
   "execution_count": 470,
   "metadata": {
    "scrolled": true
   },
   "outputs": [
    {
     "data": {
      "text/html": [
       "<div>\n",
       "<style scoped>\n",
       "    .dataframe tbody tr th:only-of-type {\n",
       "        vertical-align: middle;\n",
       "    }\n",
       "\n",
       "    .dataframe tbody tr th {\n",
       "        vertical-align: top;\n",
       "    }\n",
       "\n",
       "    .dataframe thead th {\n",
       "        text-align: right;\n",
       "    }\n",
       "</style>\n",
       "<table border=\"1\" class=\"dataframe\">\n",
       "  <thead>\n",
       "    <tr style=\"text-align: right;\">\n",
       "      <th></th>\n",
       "      <th>loan_amnt</th>\n",
       "      <th>funded_amnt</th>\n",
       "      <th>funded_amnt_inv</th>\n",
       "      <th>term</th>\n",
       "      <th>int_rate</th>\n",
       "      <th>installment</th>\n",
       "      <th>grade</th>\n",
       "      <th>sub_grade</th>\n",
       "      <th>emp_title</th>\n",
       "      <th>emp_length</th>\n",
       "      <th>...</th>\n",
       "      <th>addr_state</th>\n",
       "      <th>dti</th>\n",
       "      <th>earliest_cr_line</th>\n",
       "      <th>revol_bal</th>\n",
       "      <th>total_rec_prncp</th>\n",
       "      <th>pub_rec_bankruptcies</th>\n",
       "      <th>issue_month</th>\n",
       "      <th>int_rate_cat</th>\n",
       "      <th>dti_cat</th>\n",
       "      <th>annual_inc_cat</th>\n",
       "    </tr>\n",
       "  </thead>\n",
       "  <tbody>\n",
       "    <tr>\n",
       "      <th>0</th>\n",
       "      <td>5000</td>\n",
       "      <td>5000</td>\n",
       "      <td>4975.0</td>\n",
       "      <td>36 months</td>\n",
       "      <td>10.65</td>\n",
       "      <td>162.87</td>\n",
       "      <td>B</td>\n",
       "      <td>B2</td>\n",
       "      <td>self-employed</td>\n",
       "      <td>10+ years</td>\n",
       "      <td>...</td>\n",
       "      <td>AZ</td>\n",
       "      <td>27.65</td>\n",
       "      <td>Jan-85</td>\n",
       "      <td>13648</td>\n",
       "      <td>5000.00</td>\n",
       "      <td>0.0</td>\n",
       "      <td>Dec</td>\n",
       "      <td>medium-low</td>\n",
       "      <td>high</td>\n",
       "      <td>high</td>\n",
       "    </tr>\n",
       "    <tr>\n",
       "      <th>1</th>\n",
       "      <td>2500</td>\n",
       "      <td>2500</td>\n",
       "      <td>2500.0</td>\n",
       "      <td>60 months</td>\n",
       "      <td>15.27</td>\n",
       "      <td>59.83</td>\n",
       "      <td>C</td>\n",
       "      <td>C4</td>\n",
       "      <td>Ryder</td>\n",
       "      <td>&lt; 1 year</td>\n",
       "      <td>...</td>\n",
       "      <td>GA</td>\n",
       "      <td>1.00</td>\n",
       "      <td>Apr-99</td>\n",
       "      <td>1687</td>\n",
       "      <td>456.46</td>\n",
       "      <td>0.0</td>\n",
       "      <td>Dec</td>\n",
       "      <td>high</td>\n",
       "      <td>low</td>\n",
       "      <td>high</td>\n",
       "    </tr>\n",
       "    <tr>\n",
       "      <th>2</th>\n",
       "      <td>2400</td>\n",
       "      <td>2400</td>\n",
       "      <td>2400.0</td>\n",
       "      <td>36 months</td>\n",
       "      <td>15.96</td>\n",
       "      <td>84.33</td>\n",
       "      <td>C</td>\n",
       "      <td>C5</td>\n",
       "      <td>self-employed</td>\n",
       "      <td>10+ years</td>\n",
       "      <td>...</td>\n",
       "      <td>IL</td>\n",
       "      <td>8.72</td>\n",
       "      <td>Nov-01</td>\n",
       "      <td>2956</td>\n",
       "      <td>2400.00</td>\n",
       "      <td>0.0</td>\n",
       "      <td>Dec</td>\n",
       "      <td>high</td>\n",
       "      <td>low</td>\n",
       "      <td>high</td>\n",
       "    </tr>\n",
       "    <tr>\n",
       "      <th>3</th>\n",
       "      <td>10000</td>\n",
       "      <td>10000</td>\n",
       "      <td>10000.0</td>\n",
       "      <td>36 months</td>\n",
       "      <td>13.49</td>\n",
       "      <td>339.31</td>\n",
       "      <td>C</td>\n",
       "      <td>C1</td>\n",
       "      <td>AIR RESOURCES BOARD</td>\n",
       "      <td>10+ years</td>\n",
       "      <td>...</td>\n",
       "      <td>CA</td>\n",
       "      <td>20.00</td>\n",
       "      <td>Feb-96</td>\n",
       "      <td>5598</td>\n",
       "      <td>10000.00</td>\n",
       "      <td>0.0</td>\n",
       "      <td>Dec</td>\n",
       "      <td>medium-high</td>\n",
       "      <td>high</td>\n",
       "      <td>medium</td>\n",
       "    </tr>\n",
       "    <tr>\n",
       "      <th>5</th>\n",
       "      <td>5000</td>\n",
       "      <td>5000</td>\n",
       "      <td>5000.0</td>\n",
       "      <td>36 months</td>\n",
       "      <td>7.90</td>\n",
       "      <td>156.46</td>\n",
       "      <td>A</td>\n",
       "      <td>A4</td>\n",
       "      <td>Veolia Transportaton</td>\n",
       "      <td>3 years</td>\n",
       "      <td>...</td>\n",
       "      <td>AZ</td>\n",
       "      <td>11.20</td>\n",
       "      <td>Nov-04</td>\n",
       "      <td>7963</td>\n",
       "      <td>5000.00</td>\n",
       "      <td>0.0</td>\n",
       "      <td>Dec</td>\n",
       "      <td>low</td>\n",
       "      <td>medium</td>\n",
       "      <td>high</td>\n",
       "    </tr>\n",
       "  </tbody>\n",
       "</table>\n",
       "<p>5 rows × 28 columns</p>\n",
       "</div>"
      ],
      "text/plain": [
       "   loan_amnt  funded_amnt  funded_amnt_inv        term  int_rate  installment  \\\n",
       "0       5000         5000           4975.0   36 months     10.65       162.87   \n",
       "1       2500         2500           2500.0   60 months     15.27        59.83   \n",
       "2       2400         2400           2400.0   36 months     15.96        84.33   \n",
       "3      10000        10000          10000.0   36 months     13.49       339.31   \n",
       "5       5000         5000           5000.0   36 months      7.90       156.46   \n",
       "\n",
       "  grade sub_grade             emp_title emp_length  ... addr_state    dti  \\\n",
       "0     B        B2         self-employed  10+ years  ...         AZ  27.65   \n",
       "1     C        C4                 Ryder   < 1 year  ...         GA   1.00   \n",
       "2     C        C5         self-employed  10+ years  ...         IL   8.72   \n",
       "3     C        C1   AIR RESOURCES BOARD  10+ years  ...         CA  20.00   \n",
       "5     A        A4  Veolia Transportaton    3 years  ...         AZ  11.20   \n",
       "\n",
       "  earliest_cr_line revol_bal  total_rec_prncp pub_rec_bankruptcies  \\\n",
       "0           Jan-85     13648          5000.00                  0.0   \n",
       "1           Apr-99      1687           456.46                  0.0   \n",
       "2           Nov-01      2956          2400.00                  0.0   \n",
       "3           Feb-96      5598         10000.00                  0.0   \n",
       "5           Nov-04      7963          5000.00                  0.0   \n",
       "\n",
       "  issue_month int_rate_cat dti_cat  annual_inc_cat  \n",
       "0         Dec   medium-low    high            high  \n",
       "1         Dec         high     low            high  \n",
       "2         Dec         high     low            high  \n",
       "3         Dec  medium-high    high          medium  \n",
       "5         Dec          low  medium            high  \n",
       "\n",
       "[5 rows x 28 columns]"
      ]
     },
     "execution_count": 470,
     "metadata": {},
     "output_type": "execute_result"
    }
   ],
   "source": [
    "cleaned_loan_df.head()"
   ]
  },
  {
   "cell_type": "code",
   "execution_count": 471,
   "metadata": {},
   "outputs": [],
   "source": [
    "cleaned_loan_df.to_csv(\"data\\cleaned_loan.csv\",encoding=\"utf-8\",index=False)"
   ]
  },
  {
   "cell_type": "code",
   "execution_count": 472,
   "metadata": {},
   "outputs": [],
   "source": [
    "Analysis_data=pd.read_csv(\"data\\cleaned_loan.csv\")"
   ]
  },
  {
   "cell_type": "code",
   "execution_count": 473,
   "metadata": {},
   "outputs": [],
   "source": [
    "def plot_vs_perc_defaulters(df,xlabel,col):\n",
    "    category_df = (cleaned_loan_df.groupby([col]).loan_status.sum() * \n",
    "                            100 / cleaned_loan_df.groupby([col]).loan_status.count())\n",
    "    loan_amnt_category_df.plot(kind = \"bar\",xlabel=xlabel,ylabel=\"% of Defaulters\")"
   ]
  },
  {
   "cell_type": "code",
   "execution_count": 474,
   "metadata": {},
   "outputs": [
    {
     "data": {
      "image/png": "[encoded data removed]",
      "text/plain": [
       "<Figure size 1080x576 with 1 Axes>"
      ]
     },
     "metadata": {},
     "output_type": "display_data"
    }
   ],
   "source": [
    "plot_vs_perc_defaulters(Analysis_data,\"DTI Category\",\"dti_cat\")"
   ]
  },
  {
   "cell_type": "markdown",
   "metadata": {},
   "source": [
    "Observation- Higher the debt to income ratio higher the defaulting rate\n"
   ]
  },
  {
   "cell_type": "code",
   "execution_count": 475,
   "metadata": {},
   "outputs": [
    {
     "data": {
      "image/png": "[encoded data removed]",
      "text/plain": [
       "<Figure size 1080x576 with 1 Axes>"
      ]
     },
     "metadata": {},
     "output_type": "display_data"
    }
   ],
   "source": [
    "\n",
    "plot_vs_perc_defaulters(Analysis_data,\"Interest Rate Category\",\"int_rate_cat\")"
   ]
  },
  {
   "cell_type": "code",
   "execution_count": 476,
   "metadata": {},
   "outputs": [
    {
     "data": {
      "text/plain": [
       "<AxesSubplot:xlabel='Annual Income Category', ylabel='% of Defaulters'>"
      ]
     },
     "execution_count": 476,
     "metadata": {},
     "output_type": "execute_result"
    },
    {
     "data": {
      "image/png": "[encoded data removed]",
      "text/plain": [
       "<Figure size 1080x576 with 1 Axes>"
      ]
     },
     "metadata": {},
     "output_type": "display_data"
    }
   ],
   "source": [
    "Annual_Income_category_df = (cleaned_loan_df.groupby(['annual_inc_cat']).loan_status.sum() * \n",
    "                            100 / cleaned_loan_df.groupby(['annual_inc_cat']).loan_status.count())\n",
    "Annual_Income_category_df.plot(kind = \"bar\",xlabel=\"Annual Income Category\",ylabel=\"% of Defaulters\")"
   ]
  },
  {
   "cell_type": "code",
   "execution_count": null,
   "metadata": {},
   "outputs": [],
   "source": []
  },
  {
   "cell_type": "code",
   "execution_count": 477,
   "metadata": {},
   "outputs": [
    {
     "data": {
      "text/plain": [
       "<AxesSubplot:xlabel='Purpose Category', ylabel='% of Defaulters'>"
      ]
     },
     "execution_count": 477,
     "metadata": {},
     "output_type": "execute_result"
    },
    {
     "data": {
      "image/png": "[encoded data removed]",
      "text/plain": [
       "<Figure size 1080x576 with 1 Axes>"
      ]
     },
     "metadata": {},
     "output_type": "display_data"
    }
   ],
   "source": [
    "purpose_df = (cleaned_loan_df.groupby(['purpose']).loan_status.sum() * \n",
    "                            100 / cleaned_loan_df.groupby(['purpose']).loan_status.count())\n",
    "purpose_df.plot(kind = \"bar\",xlabel=\"Purpose Category\",ylabel=\"% of Defaulters\")"
   ]
  },
  {
   "cell_type": "markdown",
   "metadata": {},
   "source": [
    "observation- for small business category the amount of default rate is much higher than the rest"
   ]
  },
  {
   "cell_type": "markdown",
   "metadata": {},
   "source": [
    "% of Defaulters based on the issue month\n"
   ]
  },
  {
   "cell_type": "code",
   "execution_count": 478,
   "metadata": {},
   "outputs": [
    {
     "data": {
      "text/plain": [
       "<AxesSubplot:xlabel='Issue Month', ylabel='% of Defaulters'>"
      ]
     },
     "execution_count": 478,
     "metadata": {},
     "output_type": "execute_result"
    },
    {
     "data": {
      "image/png": "[encoded data removed]",
      "text/plain": [
       "<Figure size 1080x576 with 1 Axes>"
      ]
     },
     "metadata": {},
     "output_type": "display_data"
    }
   ],
   "source": [
    "issue_month_df = (cleaned_loan_df.groupby(['issue_month']).loan_status.sum() * \n",
    "                            100 / cleaned_loan_df.groupby(['issue_month']).loan_status.count())\n",
    "issue_month_df.plot(kind = \"bar\",xlabel=\"Issue Month\",ylabel=\"% of Defaulters\")"
   ]
  },
  {
   "cell_type": "markdown",
   "metadata": {},
   "source": [
    "based on terms"
   ]
  },
  {
   "cell_type": "code",
   "execution_count": 479,
   "metadata": {},
   "outputs": [
    {
     "data": {
      "text/plain": [
       "<AxesSubplot:xlabel='term', ylabel='% of Defaulters'>"
      ]
     },
     "execution_count": 479,
     "metadata": {},
     "output_type": "execute_result"
    },
    {
     "data": {
      "image/png": "[encoded data removed]",
      "text/plain": [
       "<Figure size 1080x576 with 1 Axes>"
      ]
     },
     "metadata": {},
     "output_type": "display_data"
    }
   ],
   "source": [
    "term= (cleaned_loan_df.groupby(['term']).loan_status.sum() * \n",
    "                            100 / cleaned_loan_df.groupby(['term']).loan_status.count())\n",
    "term.plot(kind = \"bar\",xlabel=\"term\",ylabel=\"% of Defaulters\")"
   ]
  },
  {
   "cell_type": "code",
   "execution_count": 480,
   "metadata": {},
   "outputs": [
    {
     "data": {
      "text/plain": [
       "<AxesSubplot:xlabel='grade', ylabel='% of Defaulters'>"
      ]
     },
     "execution_count": 480,
     "metadata": {},
     "output_type": "execute_result"
    },
    {
     "data": {
      "image/png": "[encoded data removed]",
      "text/plain": [
       "<Figure size 1080x576 with 1 Axes>"
      ]
     },
     "metadata": {},
     "output_type": "display_data"
    }
   ],
   "source": [
    "grade= (cleaned_loan_df.groupby(['grade']).loan_status.sum() * \n",
    "                            100 / cleaned_loan_df.groupby(['grade']).loan_status.count())\n",
    "grade.plot(kind = \"bar\",xlabel=\"grade\",ylabel=\"% of Defaulters\")"
   ]
  },
  {
   "cell_type": "code",
   "execution_count": 481,
   "metadata": {},
   "outputs": [
    {
     "data": {
      "text/plain": [
       "<AxesSubplot:xlabel='Sub_Grade', ylabel='% of Defaulters'>"
      ]
     },
     "execution_count": 481,
     "metadata": {},
     "output_type": "execute_result"
    },
    {
     "data": {
      "image/png": "[encoded data removed]",
      "text/plain": [
       "<Figure size 1080x576 with 1 Axes>"
      ]
     },
     "metadata": {},
     "output_type": "display_data"
    }
   ],
   "source": [
    "sub_grade= (cleaned_loan_df.groupby(['sub_grade']).loan_status.sum() * \n",
    "                            100 / cleaned_loan_df.groupby(['sub_grade']).loan_status.count())\n",
    "sub_grade.plot(kind = \"bar\",xlabel=\"Sub_Grade\",ylabel=\"% of Defaulters\")"
   ]
  },
  {
   "cell_type": "code",
   "execution_count": 482,
   "metadata": {},
   "outputs": [
    {
     "data": {
      "text/plain": [
       "<AxesSubplot:xlabel='Verification Status', ylabel='% of Defaulters'>"
      ]
     },
     "execution_count": 482,
     "metadata": {},
     "output_type": "execute_result"
    },
    {
     "data": {
      "image/png": "[encoded data removed]",
      "text/plain": [
       "<Figure size 1080x576 with 1 Axes>"
      ]
     },
     "metadata": {},
     "output_type": "display_data"
    }
   ],
   "source": [
    "verification_stat_df= (cleaned_loan_df.groupby(['verification_status']).loan_status.sum() * \n",
    "                            100 / cleaned_loan_df.groupby(['verification_status']).loan_status.count())\n",
    "verification_stat_df.plot(kind = \"bar\",xlabel=\"Verification Status\",ylabel=\"% of Defaulters\")"
   ]
  },
  {
   "cell_type": "code",
   "execution_count": 483,
   "metadata": {},
   "outputs": [
    {
     "data": {
      "text/plain": [
       "<AxesSubplot:xlabel='Employment Length', ylabel='% of Defaulters'>"
      ]
     },
     "execution_count": 483,
     "metadata": {},
     "output_type": "execute_result"
    },
    {
     "data": {
      "image/png": "[encoded data removed]",
      "text/plain": [
       "<Figure size 1080x576 with 1 Axes>"
      ]
     },
     "metadata": {},
     "output_type": "display_data"
    }
   ],
   "source": [
    "emp_length_df= (cleaned_loan_df.groupby(['emp_length']).loan_status.sum() * \n",
    "                            100 / cleaned_loan_df.groupby(['emp_length']).loan_status.count())\n",
    "emp_length_df.plot(kind = \"bar\",xlabel=\"Employment Length\",ylabel=\"% of Defaulters\")"
   ]
  },
  {
   "cell_type": "code",
   "execution_count": 484,
   "metadata": {},
   "outputs": [
    {
     "data": {
      "text/plain": [
       "array(['10+ years', '< 1 year', '3 years', '8 years', '9 years',\n",
       "       '4 years', '5 years', '1 year', '6 years', '2 years', '7 years',\n",
       "       'None'], dtype=object)"
      ]
     },
     "execution_count": 484,
     "metadata": {},
     "output_type": "execute_result"
    }
   ],
   "source": [
    "cleaned_loan_df.emp_length.unique()"
   ]
  },
  {
   "cell_type": "code",
   "execution_count": null,
   "metadata": {},
   "outputs": [],
   "source": []
  }
 ],
 "metadata": {
  "interpreter": {
   "hash": "9ef36e923739aaa2969d170e45549f355a52fd104a638bee7fe8902a3b10ab30"
  },
  "kernelspec": {
   "display_name": "Python 3 (ipykernel)",
   "language": "python",
   "name": "python3"
  },
  "language_info": {
   "codemirror_mode": {
    "name": "ipython",
    "version": 3
   },
   "file_extension": ".py",
   "mimetype": "text/x-python",
   "name": "python",
   "nbconvert_exporter": "python",
   "pygments_lexer": "ipython3",
   "version": "3.10.4"
  }
 },
 "nbformat": 4,
 "nbformat_minor": 2
}
